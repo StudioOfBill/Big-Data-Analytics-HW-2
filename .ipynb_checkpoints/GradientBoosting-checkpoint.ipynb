{
 "cells": [
  {
   "cell_type": "code",
   "execution_count": 17,
   "metadata": {
    "collapsed": false
   },
   "outputs": [],
   "source": [
    "#Import libraries:\n",
    "import pandas as pd\n",
    "import numpy as np\n",
    "from sklearn.ensemble import GradientBoostingClassifier  #GBM algorithm\n",
    "from sklearn import model_selection, metrics   #Additional scklearn functions\n",
    "from sklearn.model_selection import GridSearchCV, StratifiedKFold   #Perforing grid search\n",
    "import matplotlib.pylab as plt\n",
    "%matplotlib inline\n",
    "from matplotlib.pylab import rcParams\n",
    "from xgboost import XGBClassifier\n",
    "from sklearn.model_selection import train_test_split\n",
    "from sklearn.metrics import accuracy_score\n",
    "from sklearn.feature_selection import SelectFromModel\n",
    "from sklearn.metrics import roc_curve, auc, cohen_kappa_score\n",
    "from itertools import cycle\n",
    "from sklearn.model_selection import StratifiedKFold"
   ]
  },
  {
   "cell_type": "code",
   "execution_count": 2,
   "metadata": {
    "collapsed": true
   },
   "outputs": [],
   "source": [
    "rcParams['figure.figsize'] = 12, 4"
   ]
  },
  {
   "cell_type": "code",
   "execution_count": 2,
   "metadata": {
    "collapsed": false,
    "scrolled": false
   },
   "outputs": [
    {
     "data": {
      "text/html": [
       "<div>\n",
       "<table border=\"1\" class=\"dataframe\">\n",
       "  <thead>\n",
       "    <tr style=\"text-align: right;\">\n",
       "      <th></th>\n",
       "      <th>Virtual</th>\n",
       "      <th>Offset</th>\n",
       "      <th>loc</th>\n",
       "      <th>Import</th>\n",
       "      <th>Imports</th>\n",
       "      <th>var</th>\n",
       "      <th>Forwarder</th>\n",
       "      <th>UINT</th>\n",
       "      <th>LONG</th>\n",
       "      <th>BOOL</th>\n",
       "      <th>...</th>\n",
       "      <th>Img99</th>\n",
       "      <th>Img100</th>\n",
       "      <th>Img101</th>\n",
       "      <th>Img102</th>\n",
       "      <th>Img103</th>\n",
       "      <th>Img104</th>\n",
       "      <th>Img105</th>\n",
       "      <th>Img106</th>\n",
       "      <th>Img107</th>\n",
       "      <th>Class</th>\n",
       "    </tr>\n",
       "  </thead>\n",
       "  <tbody>\n",
       "    <tr>\n",
       "      <th>0</th>\n",
       "      <td>3</td>\n",
       "      <td>3</td>\n",
       "      <td>689</td>\n",
       "      <td>18</td>\n",
       "      <td>6</td>\n",
       "      <td>890</td>\n",
       "      <td>6</td>\n",
       "      <td>39</td>\n",
       "      <td>17</td>\n",
       "      <td>88</td>\n",
       "      <td>...</td>\n",
       "      <td>35148.0</td>\n",
       "      <td>8687.0</td>\n",
       "      <td>55835.0</td>\n",
       "      <td>9078.0</td>\n",
       "      <td>21355.0</td>\n",
       "      <td>56302.0</td>\n",
       "      <td>10380.0</td>\n",
       "      <td>171979.0</td>\n",
       "      <td>162674.0</td>\n",
       "      <td>2</td>\n",
       "    </tr>\n",
       "    <tr>\n",
       "      <th>1</th>\n",
       "      <td>3</td>\n",
       "      <td>3</td>\n",
       "      <td>583</td>\n",
       "      <td>15</td>\n",
       "      <td>5</td>\n",
       "      <td>1574</td>\n",
       "      <td>5</td>\n",
       "      <td>6</td>\n",
       "      <td>7</td>\n",
       "      <td>30</td>\n",
       "      <td>...</td>\n",
       "      <td>571.0</td>\n",
       "      <td>718.0</td>\n",
       "      <td>1762.0</td>\n",
       "      <td>642.0</td>\n",
       "      <td>1820.0</td>\n",
       "      <td>1675.0</td>\n",
       "      <td>1100.0</td>\n",
       "      <td>7702.0</td>\n",
       "      <td>6551.0</td>\n",
       "      <td>8</td>\n",
       "    </tr>\n",
       "    <tr>\n",
       "      <th>2</th>\n",
       "      <td>3</td>\n",
       "      <td>4</td>\n",
       "      <td>2796</td>\n",
       "      <td>15</td>\n",
       "      <td>5</td>\n",
       "      <td>625</td>\n",
       "      <td>5</td>\n",
       "      <td>58</td>\n",
       "      <td>11</td>\n",
       "      <td>152</td>\n",
       "      <td>...</td>\n",
       "      <td>29872.0</td>\n",
       "      <td>16910.0</td>\n",
       "      <td>31708.0</td>\n",
       "      <td>9000.0</td>\n",
       "      <td>17586.0</td>\n",
       "      <td>30719.0</td>\n",
       "      <td>30062.0</td>\n",
       "      <td>55331.0</td>\n",
       "      <td>12946.0</td>\n",
       "      <td>9</td>\n",
       "    </tr>\n",
       "    <tr>\n",
       "      <th>3</th>\n",
       "      <td>3</td>\n",
       "      <td>3</td>\n",
       "      <td>373</td>\n",
       "      <td>27</td>\n",
       "      <td>9</td>\n",
       "      <td>615</td>\n",
       "      <td>9</td>\n",
       "      <td>16</td>\n",
       "      <td>10</td>\n",
       "      <td>34</td>\n",
       "      <td>...</td>\n",
       "      <td>10742.0</td>\n",
       "      <td>9755.0</td>\n",
       "      <td>26992.0</td>\n",
       "      <td>9069.0</td>\n",
       "      <td>24885.0</td>\n",
       "      <td>27108.0</td>\n",
       "      <td>13219.0</td>\n",
       "      <td>122247.0</td>\n",
       "      <td>98621.0</td>\n",
       "      <td>9</td>\n",
       "    </tr>\n",
       "    <tr>\n",
       "      <th>4</th>\n",
       "      <td>3</td>\n",
       "      <td>3</td>\n",
       "      <td>77</td>\n",
       "      <td>12</td>\n",
       "      <td>4</td>\n",
       "      <td>66</td>\n",
       "      <td>4</td>\n",
       "      <td>3</td>\n",
       "      <td>0</td>\n",
       "      <td>5</td>\n",
       "      <td>...</td>\n",
       "      <td>962.0</td>\n",
       "      <td>1307.0</td>\n",
       "      <td>3119.0</td>\n",
       "      <td>1172.0</td>\n",
       "      <td>3522.0</td>\n",
       "      <td>3245.0</td>\n",
       "      <td>2001.0</td>\n",
       "      <td>15501.0</td>\n",
       "      <td>11864.0</td>\n",
       "      <td>1</td>\n",
       "    </tr>\n",
       "  </tbody>\n",
       "</table>\n",
       "<p>5 rows × 1805 columns</p>\n",
       "</div>"
      ],
      "text/plain": [
       "   Virtual  Offset   loc  Import  Imports   var  Forwarder  UINT  LONG  BOOL  \\\n",
       "0        3       3   689      18        6   890          6    39    17    88   \n",
       "1        3       3   583      15        5  1574          5     6     7    30   \n",
       "2        3       4  2796      15        5   625          5    58    11   152   \n",
       "3        3       3   373      27        9   615          9    16    10    34   \n",
       "4        3       3    77      12        4    66          4     3     0     5   \n",
       "\n",
       "   ...      Img99   Img100   Img101  Img102   Img103   Img104   Img105  \\\n",
       "0  ...    35148.0   8687.0  55835.0  9078.0  21355.0  56302.0  10380.0   \n",
       "1  ...      571.0    718.0   1762.0   642.0   1820.0   1675.0   1100.0   \n",
       "2  ...    29872.0  16910.0  31708.0  9000.0  17586.0  30719.0  30062.0   \n",
       "3  ...    10742.0   9755.0  26992.0  9069.0  24885.0  27108.0  13219.0   \n",
       "4  ...      962.0   1307.0   3119.0  1172.0   3522.0   3245.0   2001.0   \n",
       "\n",
       "     Img106    Img107  Class  \n",
       "0  171979.0  162674.0      2  \n",
       "1    7702.0    6551.0      8  \n",
       "2   55331.0   12946.0      9  \n",
       "3  122247.0   98621.0      9  \n",
       "4   15501.0   11864.0      1  \n",
       "\n",
       "[5 rows x 1805 columns]"
      ]
     },
     "execution_count": 2,
     "metadata": {},
     "output_type": "execute_result"
    }
   ],
   "source": [
    "malware_data = pd.read_csv('LargeTrain.csv')\n",
    "malware_data.head()"
   ]
  },
  {
   "cell_type": "code",
   "execution_count": 24,
   "metadata": {
    "collapsed": false
   },
   "outputs": [
    {
     "data": {
      "text/html": [
       "<div>\n",
       "<table border=\"1\" class=\"dataframe\">\n",
       "  <thead>\n",
       "    <tr style=\"text-align: right;\">\n",
       "      <th></th>\n",
       "      <th>Virtual</th>\n",
       "      <th>Offset</th>\n",
       "      <th>loc</th>\n",
       "      <th>Import</th>\n",
       "      <th>Imports</th>\n",
       "      <th>var</th>\n",
       "      <th>Forwarder</th>\n",
       "      <th>UINT</th>\n",
       "      <th>LONG</th>\n",
       "      <th>BOOL</th>\n",
       "      <th>...</th>\n",
       "      <th>Img99</th>\n",
       "      <th>Img100</th>\n",
       "      <th>Img101</th>\n",
       "      <th>Img102</th>\n",
       "      <th>Img103</th>\n",
       "      <th>Img104</th>\n",
       "      <th>Img105</th>\n",
       "      <th>Img106</th>\n",
       "      <th>Img107</th>\n",
       "      <th>Class</th>\n",
       "    </tr>\n",
       "  </thead>\n",
       "  <tbody>\n",
       "    <tr>\n",
       "      <th>count</th>\n",
       "      <td>10868.000000</td>\n",
       "      <td>10868.000000</td>\n",
       "      <td>10868.000000</td>\n",
       "      <td>10868.000000</td>\n",
       "      <td>10868.000000</td>\n",
       "      <td>10868.000000</td>\n",
       "      <td>10868.000000</td>\n",
       "      <td>10868.000000</td>\n",
       "      <td>10868.000000</td>\n",
       "      <td>10868.000000</td>\n",
       "      <td>...</td>\n",
       "      <td>10868.000000</td>\n",
       "      <td>10868.000000</td>\n",
       "      <td>10868.000000</td>\n",
       "      <td>10868.000000</td>\n",
       "      <td>10868.000000</td>\n",
       "      <td>10868.000000</td>\n",
       "      <td>10868.000000</td>\n",
       "      <td>10868.000000</td>\n",
       "      <td>10868.000000</td>\n",
       "      <td>10868.000000</td>\n",
       "    </tr>\n",
       "    <tr>\n",
       "      <th>mean</th>\n",
       "      <td>3.279076</td>\n",
       "      <td>3.500552</td>\n",
       "      <td>1990.713747</td>\n",
       "      <td>11.586861</td>\n",
       "      <td>4.934671</td>\n",
       "      <td>1264.397957</td>\n",
       "      <td>3.845786</td>\n",
       "      <td>16.559717</td>\n",
       "      <td>5.552908</td>\n",
       "      <td>31.011502</td>\n",
       "      <td>...</td>\n",
       "      <td>10840.809901</td>\n",
       "      <td>5067.437155</td>\n",
       "      <td>19206.655962</td>\n",
       "      <td>4861.557508</td>\n",
       "      <td>13055.646853</td>\n",
       "      <td>19358.439179</td>\n",
       "      <td>7070.320482</td>\n",
       "      <td>66860.996319</td>\n",
       "      <td>53866.402926</td>\n",
       "      <td>4.017851</td>\n",
       "    </tr>\n",
       "    <tr>\n",
       "      <th>std</th>\n",
       "      <td>0.936296</td>\n",
       "      <td>3.725526</td>\n",
       "      <td>5827.675688</td>\n",
       "      <td>8.986606</td>\n",
       "      <td>2.637995</td>\n",
       "      <td>3902.380905</td>\n",
       "      <td>2.925528</td>\n",
       "      <td>23.203308</td>\n",
       "      <td>7.285566</td>\n",
       "      <td>37.299279</td>\n",
       "      <td>...</td>\n",
       "      <td>18299.174269</td>\n",
       "      <td>4215.541706</td>\n",
       "      <td>23749.881264</td>\n",
       "      <td>4084.822497</td>\n",
       "      <td>10759.321012</td>\n",
       "      <td>24745.353583</td>\n",
       "      <td>5963.469543</td>\n",
       "      <td>66364.332846</td>\n",
       "      <td>53145.701929</td>\n",
       "      <td>2.684621</td>\n",
       "    </tr>\n",
       "    <tr>\n",
       "      <th>min</th>\n",
       "      <td>0.000000</td>\n",
       "      <td>0.000000</td>\n",
       "      <td>0.000000</td>\n",
       "      <td>0.000000</td>\n",
       "      <td>0.000000</td>\n",
       "      <td>0.000000</td>\n",
       "      <td>0.000000</td>\n",
       "      <td>0.000000</td>\n",
       "      <td>0.000000</td>\n",
       "      <td>0.000000</td>\n",
       "      <td>...</td>\n",
       "      <td>0.000000</td>\n",
       "      <td>0.000000</td>\n",
       "      <td>0.000000</td>\n",
       "      <td>0.000000</td>\n",
       "      <td>0.000000</td>\n",
       "      <td>0.000000</td>\n",
       "      <td>0.000000</td>\n",
       "      <td>0.000000</td>\n",
       "      <td>0.000000</td>\n",
       "      <td>1.000000</td>\n",
       "    </tr>\n",
       "    <tr>\n",
       "      <th>25%</th>\n",
       "      <td>3.000000</td>\n",
       "      <td>3.000000</td>\n",
       "      <td>58.000000</td>\n",
       "      <td>3.000000</td>\n",
       "      <td>4.000000</td>\n",
       "      <td>37.000000</td>\n",
       "      <td>1.000000</td>\n",
       "      <td>6.000000</td>\n",
       "      <td>0.000000</td>\n",
       "      <td>13.000000</td>\n",
       "      <td>...</td>\n",
       "      <td>1124.000000</td>\n",
       "      <td>1321.000000</td>\n",
       "      <td>3262.000000</td>\n",
       "      <td>1158.750000</td>\n",
       "      <td>3108.000000</td>\n",
       "      <td>3130.750000</td>\n",
       "      <td>1964.750000</td>\n",
       "      <td>11990.250000</td>\n",
       "      <td>7706.000000</td>\n",
       "      <td>2.000000</td>\n",
       "    </tr>\n",
       "    <tr>\n",
       "      <th>50%</th>\n",
       "      <td>3.000000</td>\n",
       "      <td>3.000000</td>\n",
       "      <td>513.000000</td>\n",
       "      <td>12.000000</td>\n",
       "      <td>4.000000</td>\n",
       "      <td>364.000000</td>\n",
       "      <td>4.000000</td>\n",
       "      <td>11.000000</td>\n",
       "      <td>4.000000</td>\n",
       "      <td>19.000000</td>\n",
       "      <td>...</td>\n",
       "      <td>5585.500000</td>\n",
       "      <td>5323.500000</td>\n",
       "      <td>14902.000000</td>\n",
       "      <td>5129.500000</td>\n",
       "      <td>14752.000000</td>\n",
       "      <td>14921.000000</td>\n",
       "      <td>7437.500000</td>\n",
       "      <td>62384.500000</td>\n",
       "      <td>45639.000000</td>\n",
       "      <td>3.000000</td>\n",
       "    </tr>\n",
       "    <tr>\n",
       "      <th>75%</th>\n",
       "      <td>3.000000</td>\n",
       "      <td>4.000000</td>\n",
       "      <td>1652.500000</td>\n",
       "      <td>18.000000</td>\n",
       "      <td>6.000000</td>\n",
       "      <td>1044.000000</td>\n",
       "      <td>5.000000</td>\n",
       "      <td>17.000000</td>\n",
       "      <td>9.000000</td>\n",
       "      <td>33.250000</td>\n",
       "      <td>...</td>\n",
       "      <td>8464.250000</td>\n",
       "      <td>6040.250000</td>\n",
       "      <td>22314.500000</td>\n",
       "      <td>6020.250000</td>\n",
       "      <td>16078.000000</td>\n",
       "      <td>21464.750000</td>\n",
       "      <td>8414.500000</td>\n",
       "      <td>73929.500000</td>\n",
       "      <td>68580.000000</td>\n",
       "      <td>6.000000</td>\n",
       "    </tr>\n",
       "    <tr>\n",
       "      <th>max</th>\n",
       "      <td>34.000000</td>\n",
       "      <td>263.000000</td>\n",
       "      <td>107775.000000</td>\n",
       "      <td>85.000000</td>\n",
       "      <td>58.000000</td>\n",
       "      <td>86560.000000</td>\n",
       "      <td>21.000000</td>\n",
       "      <td>377.000000</td>\n",
       "      <td>166.000000</td>\n",
       "      <td>492.000000</td>\n",
       "      <td>...</td>\n",
       "      <td>189297.000000</td>\n",
       "      <td>24914.000000</td>\n",
       "      <td>214551.000000</td>\n",
       "      <td>25502.000000</td>\n",
       "      <td>63895.000000</td>\n",
       "      <td>212548.000000</td>\n",
       "      <td>38582.000000</td>\n",
       "      <td>397109.000000</td>\n",
       "      <td>322765.000000</td>\n",
       "      <td>9.000000</td>\n",
       "    </tr>\n",
       "  </tbody>\n",
       "</table>\n",
       "<p>8 rows × 1805 columns</p>\n",
       "</div>"
      ],
      "text/plain": [
       "            Virtual        Offset            loc        Import       Imports  \\\n",
       "count  10868.000000  10868.000000   10868.000000  10868.000000  10868.000000   \n",
       "mean       3.279076      3.500552    1990.713747     11.586861      4.934671   \n",
       "std        0.936296      3.725526    5827.675688      8.986606      2.637995   \n",
       "min        0.000000      0.000000       0.000000      0.000000      0.000000   \n",
       "25%        3.000000      3.000000      58.000000      3.000000      4.000000   \n",
       "50%        3.000000      3.000000     513.000000     12.000000      4.000000   \n",
       "75%        3.000000      4.000000    1652.500000     18.000000      6.000000   \n",
       "max       34.000000    263.000000  107775.000000     85.000000     58.000000   \n",
       "\n",
       "                var     Forwarder          UINT          LONG          BOOL  \\\n",
       "count  10868.000000  10868.000000  10868.000000  10868.000000  10868.000000   \n",
       "mean    1264.397957      3.845786     16.559717      5.552908     31.011502   \n",
       "std     3902.380905      2.925528     23.203308      7.285566     37.299279   \n",
       "min        0.000000      0.000000      0.000000      0.000000      0.000000   \n",
       "25%       37.000000      1.000000      6.000000      0.000000     13.000000   \n",
       "50%      364.000000      4.000000     11.000000      4.000000     19.000000   \n",
       "75%     1044.000000      5.000000     17.000000      9.000000     33.250000   \n",
       "max    86560.000000     21.000000    377.000000    166.000000    492.000000   \n",
       "\n",
       "           ...               Img99        Img100         Img101        Img102  \\\n",
       "count      ...        10868.000000  10868.000000   10868.000000  10868.000000   \n",
       "mean       ...        10840.809901   5067.437155   19206.655962   4861.557508   \n",
       "std        ...        18299.174269   4215.541706   23749.881264   4084.822497   \n",
       "min        ...            0.000000      0.000000       0.000000      0.000000   \n",
       "25%        ...         1124.000000   1321.000000    3262.000000   1158.750000   \n",
       "50%        ...         5585.500000   5323.500000   14902.000000   5129.500000   \n",
       "75%        ...         8464.250000   6040.250000   22314.500000   6020.250000   \n",
       "max        ...       189297.000000  24914.000000  214551.000000  25502.000000   \n",
       "\n",
       "             Img103         Img104        Img105         Img106  \\\n",
       "count  10868.000000   10868.000000  10868.000000   10868.000000   \n",
       "mean   13055.646853   19358.439179   7070.320482   66860.996319   \n",
       "std    10759.321012   24745.353583   5963.469543   66364.332846   \n",
       "min        0.000000       0.000000      0.000000       0.000000   \n",
       "25%     3108.000000    3130.750000   1964.750000   11990.250000   \n",
       "50%    14752.000000   14921.000000   7437.500000   62384.500000   \n",
       "75%    16078.000000   21464.750000   8414.500000   73929.500000   \n",
       "max    63895.000000  212548.000000  38582.000000  397109.000000   \n",
       "\n",
       "              Img107         Class  \n",
       "count   10868.000000  10868.000000  \n",
       "mean    53866.402926      4.017851  \n",
       "std     53145.701929      2.684621  \n",
       "min         0.000000      1.000000  \n",
       "25%      7706.000000      2.000000  \n",
       "50%     45639.000000      3.000000  \n",
       "75%     68580.000000      6.000000  \n",
       "max    322765.000000      9.000000  \n",
       "\n",
       "[8 rows x 1805 columns]"
      ]
     },
     "execution_count": 24,
     "metadata": {},
     "output_type": "execute_result"
    }
   ],
   "source": [
    "malware_data.describe()"
   ]
  },
  {
   "cell_type": "code",
   "execution_count": 25,
   "metadata": {
    "collapsed": false
   },
   "outputs": [
    {
     "name": "stdout",
     "output_type": "stream",
     "text": [
      "<class 'pandas.core.frame.DataFrame'>\n",
      "RangeIndex: 10868 entries, 0 to 10867\n",
      "Columns: 1805 entries, Virtual to Class\n",
      "dtypes: float64(583), int64(1222)\n",
      "memory usage: 149.7 MB\n"
     ]
    }
   ],
   "source": [
    "malware_data.info()"
   ]
  },
  {
   "cell_type": "code",
   "execution_count": 74,
   "metadata": {
    "collapsed": true
   },
   "outputs": [],
   "source": [
    "def model_fitting(algorithm, train_data, predictors, target, performCV = True, printFeatureImportance = True, cv_folds = 10):\n",
    "    \n",
    "    #fit the algorithm on the data\n",
    "#     algorithm.fit(train_data[predictors], train_data[target])\n",
    "    \n",
    "    #predict the train set\n",
    "    train_data_predictions = algorithm.predict(train_data[predictors])\n",
    "    train_data_predict_probability = algorithm.predict_proba(train_data[predictors])[:, 1]\n",
    "    \n",
    "    #perform cross-validation\n",
    "    if performCV:\n",
    "#         cv = StratifiedKFold(n_splits=cv_folds)\n",
    "#         mean_tpr = 0.0\n",
    "#         mean_fpr = np.linspace(0, 1, 100)\n",
    "# #         X = train_data[predictors]\n",
    "# #         X = np.asmatrix(X)\n",
    "# #         y = train_data[target]\n",
    "# #         y = np.asmatrix(y)\n",
    "\n",
    "# #         classes = cycle(['1', '2', '3', '4', '5', '6', '7', '8', '9'])\n",
    "\n",
    "# #         for (train, test), class_ in zip(cv.split(predictors, target), classes):\n",
    "#         for (train, test) in cv.split(predictors, target):\n",
    "#             probas_ = classifier.fit(predictors[train], target[train]).predict_proba(predictors[test])\n",
    "#             # Compute ROC curve and area under the curve\n",
    "#             fpr, tpr, thresholds = roc_curve(target[test], probas_[:, 1])\n",
    "#             mean_tpr += interp(mean_fpr, fpr, tpr)\n",
    "#             mean_tpr[0] = 0.0\n",
    "#             roc_auc = auc(fpr, tpr)\n",
    "            \n",
    "        \n",
    "#         mean_tpr /= cv.get_n_splits(train_data, target)\n",
    "#         mean_tpr[-1] = 1.0\n",
    "#         mean_auc = auc(mean_fpr, mean_tpr)\n",
    "        \n",
    "#         cv_score = mean_auc\n",
    "        \n",
    "    #print model report\n",
    "#     print \"\\nModel Report\"\n",
    "#     print \"Accuracy : %.4g\" % metrics.accuracy_score(train_data['Class'].values, train_data_predictions)\n",
    "#     print \"AUC Score (Train): %f\" % metrics.roc_auc_score(train_data['Class'], train_data_predict_probability)\n",
    "    \n",
    "    if performCV:\n",
    "        print \"CV Score : Mean - %.7g | Std - %.7g | Min - %.7g | Max - %.7g\" % (np.mean(cv_score),np.std(cv_score),np.min(cv_score),np.max(cv_score))\n",
    "        \n",
    "    #Print Feature Importance:\n",
    "    if printFeatureImportance:\n",
    "        feat_imp = pd.Series(algorithm.feature_importances_, predictors).sort_values(ascending=False)\n",
    "        feat_imp.plot(kind='bar', title='Feature Importances')\n",
    "        plt.ylabel('Feature Importance Score')"
   ]
  },
  {
   "cell_type": "code",
   "execution_count": 80,
   "metadata": {
    "collapsed": false
   },
   "outputs": [],
   "source": [
    "train_df = malware_data\n",
    "target = 'Class'\n",
    "IDcol = 'loc'\n",
    "predictors = [x for x in train_df.columns if x not in [target, IDcol]]"
   ]
  },
  {
   "cell_type": "code",
   "execution_count": 65,
   "metadata": {
    "collapsed": false,
    "scrolled": true
   },
   "outputs": [
    {
     "name": "stdout",
     "output_type": "stream",
     "text": [
      "(10868, 1)\n"
     ]
    }
   ],
   "source": [
    "print(train_df[target].shape)"
   ]
  },
  {
   "cell_type": "code",
   "execution_count": 81,
   "metadata": {
    "collapsed": false
   },
   "outputs": [
    {
     "data": {
      "text/plain": [
       "GradientBoostingClassifier(criterion='friedman_mse', init=None,\n",
       "              learning_rate=0.1, loss='deviance', max_depth=3,\n",
       "              max_features=None, max_leaf_nodes=None,\n",
       "              min_impurity_split=1e-07, min_samples_leaf=1,\n",
       "              min_samples_split=2, min_weight_fraction_leaf=0.0,\n",
       "              n_estimators=100, presort='auto', random_state=10,\n",
       "              subsample=1.0, verbose=0, warm_start=False)"
      ]
     },
     "execution_count": 81,
     "metadata": {},
     "output_type": "execute_result"
    }
   ],
   "source": [
    "gbm0 = GradientBoostingClassifier(random_state=10)\n",
    "gbm0.fit(train_df[predictors], train_df[target])\n"
   ]
  },
  {
   "cell_type": "code",
   "execution_count": 78,
   "metadata": {
    "collapsed": true
   },
   "outputs": [],
   "source": [
    "my_scorer = metrics.make_scorer(metrics.f1_score, average=\"weighted\")"
   ]
  },
  {
   "cell_type": "code",
   "execution_count": null,
   "metadata": {
    "collapsed": true
   },
   "outputs": [],
   "source": []
  },
  {
   "cell_type": "code",
   "execution_count": 77,
   "metadata": {
    "collapsed": false
   },
   "outputs": [
    {
     "ename": "SyntaxError",
     "evalue": "invalid syntax (<ipython-input-77-6f5af2669ff3>, line 17)",
     "output_type": "error",
     "traceback": [
      "\u001b[0;36m  File \u001b[0;32m\"<ipython-input-77-6f5af2669ff3>\"\u001b[0;36m, line \u001b[0;32m17\u001b[0m\n\u001b[0;31m    cv=5)\u001b[0m\n\u001b[0m         ^\u001b[0m\n\u001b[0;31mSyntaxError\u001b[0m\u001b[0;31m:\u001b[0m invalid syntax\n"
     ]
    }
   ],
   "source": [
    "param_test1 = {\n",
    "    'max_depth':[2, 4, 6, 8], \n",
    "    'min_samples_split':[200, 400, 600, 800]\n",
    "}\n",
    "gsearch1 = GridSearchCV(estimator = GradientBoostingClassifier(learning_rate=0.01, \n",
    "                                                               min_samples_split=500,\n",
    "                                                               min_samples_leaf=50, \n",
    "                                                               max_depth=8, \n",
    "                                                               max_features='sqrt',\n",
    "                                                               subsample=0.8, \n",
    "                                                               random_state=10,\n",
    "                                                               seed=27), \n",
    "                                                               param_grid = param_test1, \n",
    "                                                               scoring='accuracy', \n",
    "                                                               n_jobs=4, \n",
    "                                                               iid=False, \n",
    "                                                               cv=5)"
   ]
  },
  {
   "cell_type": "code",
   "execution_count": null,
   "metadata": {
    "collapsed": true
   },
   "outputs": [],
   "source": []
  },
  {
   "cell_type": "code",
   "execution_count": 75,
   "metadata": {
    "collapsed": false
   },
   "outputs": [
    {
     "ename": "ValueError",
     "evalue": "Found input variables with inconsistent numbers of samples: [1804, 1]",
     "output_type": "error",
     "traceback": [
      "\u001b[0;31m---------------------------------------------------------------------------\u001b[0m",
      "\u001b[0;31mValueError\u001b[0m                                Traceback (most recent call last)",
      "\u001b[0;32m<ipython-input-75-c73718c19f4a>\u001b[0m in \u001b[0;36m<module>\u001b[0;34m()\u001b[0m\n\u001b[0;32m----> 1\u001b[0;31m \u001b[0mmodel_fitting\u001b[0m\u001b[0;34m(\u001b[0m\u001b[0mgbm0\u001b[0m\u001b[0;34m,\u001b[0m \u001b[0mtrain_df\u001b[0m\u001b[0;34m,\u001b[0m \u001b[0mpredictors\u001b[0m\u001b[0;34m=\u001b[0m\u001b[0mpredictors\u001b[0m\u001b[0;34m,\u001b[0m \u001b[0mtarget\u001b[0m\u001b[0;34m=\u001b[0m\u001b[0mtarget\u001b[0m\u001b[0;34m)\u001b[0m\u001b[0;34m\u001b[0m\u001b[0m\n\u001b[0m",
      "\u001b[0;32m<ipython-input-74-5cbee540f8e1>\u001b[0m in \u001b[0;36mmodel_fitting\u001b[0;34m(algorithm, train_data, predictors, target, performCV, printFeatureImportance, cv_folds)\u001b[0m\n\u001b[1;32m     21\u001b[0m \u001b[0;34m\u001b[0m\u001b[0m\n\u001b[1;32m     22\u001b[0m \u001b[0;31m#         for (train, test), class_ in zip(cv.split(predictors, target), classes):\u001b[0m\u001b[0;34m\u001b[0m\u001b[0;34m\u001b[0m\u001b[0m\n\u001b[0;32m---> 23\u001b[0;31m         \u001b[0;32mfor\u001b[0m \u001b[0;34m(\u001b[0m\u001b[0mtrain\u001b[0m\u001b[0;34m,\u001b[0m \u001b[0mtest\u001b[0m\u001b[0;34m)\u001b[0m \u001b[0;32min\u001b[0m \u001b[0mcv\u001b[0m\u001b[0;34m.\u001b[0m\u001b[0msplit\u001b[0m\u001b[0;34m(\u001b[0m\u001b[0mpredictors\u001b[0m\u001b[0;34m,\u001b[0m \u001b[0mtarget\u001b[0m\u001b[0;34m)\u001b[0m\u001b[0;34m:\u001b[0m\u001b[0;34m\u001b[0m\u001b[0m\n\u001b[0m\u001b[1;32m     24\u001b[0m             \u001b[0mprobas_\u001b[0m \u001b[0;34m=\u001b[0m \u001b[0mclassifier\u001b[0m\u001b[0;34m.\u001b[0m\u001b[0mfit\u001b[0m\u001b[0;34m(\u001b[0m\u001b[0mpredictors\u001b[0m\u001b[0;34m[\u001b[0m\u001b[0mtrain\u001b[0m\u001b[0;34m]\u001b[0m\u001b[0;34m,\u001b[0m \u001b[0mtarget\u001b[0m\u001b[0;34m[\u001b[0m\u001b[0mtrain\u001b[0m\u001b[0;34m]\u001b[0m\u001b[0;34m)\u001b[0m\u001b[0;34m.\u001b[0m\u001b[0mpredict_proba\u001b[0m\u001b[0;34m(\u001b[0m\u001b[0mpredictors\u001b[0m\u001b[0;34m[\u001b[0m\u001b[0mtest\u001b[0m\u001b[0;34m]\u001b[0m\u001b[0;34m)\u001b[0m\u001b[0;34m\u001b[0m\u001b[0m\n\u001b[1;32m     25\u001b[0m             \u001b[0;31m# Compute ROC curve and area under the curve\u001b[0m\u001b[0;34m\u001b[0m\u001b[0;34m\u001b[0m\u001b[0m\n",
      "\u001b[0;32m/Users/stybill/anaconda/lib/python2.7/site-packages/sklearn/model_selection/_split.pyc\u001b[0m in \u001b[0;36msplit\u001b[0;34m(self, X, y, groups)\u001b[0m\n\u001b[1;32m    312\u001b[0m             \u001b[0mThe\u001b[0m \u001b[0mtesting\u001b[0m \u001b[0mset\u001b[0m \u001b[0mindices\u001b[0m \u001b[0;32mfor\u001b[0m \u001b[0mthat\u001b[0m \u001b[0msplit\u001b[0m\u001b[0;34m.\u001b[0m\u001b[0;34m\u001b[0m\u001b[0m\n\u001b[1;32m    313\u001b[0m         \"\"\"\n\u001b[0;32m--> 314\u001b[0;31m         \u001b[0mX\u001b[0m\u001b[0;34m,\u001b[0m \u001b[0my\u001b[0m\u001b[0;34m,\u001b[0m \u001b[0mgroups\u001b[0m \u001b[0;34m=\u001b[0m \u001b[0mindexable\u001b[0m\u001b[0;34m(\u001b[0m\u001b[0mX\u001b[0m\u001b[0;34m,\u001b[0m \u001b[0my\u001b[0m\u001b[0;34m,\u001b[0m \u001b[0mgroups\u001b[0m\u001b[0;34m)\u001b[0m\u001b[0;34m\u001b[0m\u001b[0m\n\u001b[0m\u001b[1;32m    315\u001b[0m         \u001b[0mn_samples\u001b[0m \u001b[0;34m=\u001b[0m \u001b[0m_num_samples\u001b[0m\u001b[0;34m(\u001b[0m\u001b[0mX\u001b[0m\u001b[0;34m)\u001b[0m\u001b[0;34m\u001b[0m\u001b[0m\n\u001b[1;32m    316\u001b[0m         \u001b[0;32mif\u001b[0m \u001b[0mself\u001b[0m\u001b[0;34m.\u001b[0m\u001b[0mn_splits\u001b[0m \u001b[0;34m>\u001b[0m \u001b[0mn_samples\u001b[0m\u001b[0;34m:\u001b[0m\u001b[0;34m\u001b[0m\u001b[0m\n",
      "\u001b[0;32m/Users/stybill/anaconda/lib/python2.7/site-packages/sklearn/utils/validation.pyc\u001b[0m in \u001b[0;36mindexable\u001b[0;34m(*iterables)\u001b[0m\n\u001b[1;32m    204\u001b[0m         \u001b[0;32melse\u001b[0m\u001b[0;34m:\u001b[0m\u001b[0;34m\u001b[0m\u001b[0m\n\u001b[1;32m    205\u001b[0m             \u001b[0mresult\u001b[0m\u001b[0;34m.\u001b[0m\u001b[0mappend\u001b[0m\u001b[0;34m(\u001b[0m\u001b[0mnp\u001b[0m\u001b[0;34m.\u001b[0m\u001b[0marray\u001b[0m\u001b[0;34m(\u001b[0m\u001b[0mX\u001b[0m\u001b[0;34m)\u001b[0m\u001b[0;34m)\u001b[0m\u001b[0;34m\u001b[0m\u001b[0m\n\u001b[0;32m--> 206\u001b[0;31m     \u001b[0mcheck_consistent_length\u001b[0m\u001b[0;34m(\u001b[0m\u001b[0;34m*\u001b[0m\u001b[0mresult\u001b[0m\u001b[0;34m)\u001b[0m\u001b[0;34m\u001b[0m\u001b[0m\n\u001b[0m\u001b[1;32m    207\u001b[0m     \u001b[0;32mreturn\u001b[0m \u001b[0mresult\u001b[0m\u001b[0;34m\u001b[0m\u001b[0m\n\u001b[1;32m    208\u001b[0m \u001b[0;34m\u001b[0m\u001b[0m\n",
      "\u001b[0;32m/Users/stybill/anaconda/lib/python2.7/site-packages/sklearn/utils/validation.pyc\u001b[0m in \u001b[0;36mcheck_consistent_length\u001b[0;34m(*arrays)\u001b[0m\n\u001b[1;32m    179\u001b[0m     \u001b[0;32mif\u001b[0m \u001b[0mlen\u001b[0m\u001b[0;34m(\u001b[0m\u001b[0muniques\u001b[0m\u001b[0;34m)\u001b[0m \u001b[0;34m>\u001b[0m \u001b[0;36m1\u001b[0m\u001b[0;34m:\u001b[0m\u001b[0;34m\u001b[0m\u001b[0m\n\u001b[1;32m    180\u001b[0m         raise ValueError(\"Found input variables with inconsistent numbers of\"\n\u001b[0;32m--> 181\u001b[0;31m                          \" samples: %r\" % [int(l) for l in lengths])\n\u001b[0m\u001b[1;32m    182\u001b[0m \u001b[0;34m\u001b[0m\u001b[0m\n\u001b[1;32m    183\u001b[0m \u001b[0;34m\u001b[0m\u001b[0m\n",
      "\u001b[0;31mValueError\u001b[0m: Found input variables with inconsistent numbers of samples: [1804, 1]"
     ]
    }
   ],
   "source": [
    "model_fitting(gbm0, train_df, predictors=predictors, target=target)"
   ]
  },
  {
   "cell_type": "code",
   "execution_count": null,
   "metadata": {
    "collapsed": true
   },
   "outputs": [],
   "source": []
  },
  {
   "cell_type": "code",
   "execution_count": null,
   "metadata": {
    "collapsed": true
   },
   "outputs": [],
   "source": []
  },
  {
   "cell_type": "code",
   "execution_count": null,
   "metadata": {
    "collapsed": true
   },
   "outputs": [],
   "source": []
  },
  {
   "cell_type": "code",
   "execution_count": 88,
   "metadata": {
    "collapsed": false
   },
   "outputs": [
    {
     "name": "stderr",
     "output_type": "stream",
     "text": [
      "/Users/stybill/anaconda/lib/python2.7/site-packages/sklearn/model_selection/_search.py:667: DeprecationWarning: The grid_scores_ attribute was deprecated in version 0.18 in favor of the more elaborate cv_results_ attribute. The grid_scores_ attribute will not be available from 0.20\n",
      "  DeprecationWarning)\n"
     ]
    },
    {
     "data": {
      "text/plain": [
       "([mean: 0.98685, std: 0.00213, params: {'n_estimators': 20},\n",
       "  mean: 0.99048, std: 0.00199, params: {'n_estimators': 30},\n",
       "  mean: 0.99318, std: 0.00170, params: {'n_estimators': 40},\n",
       "  mean: 0.99428, std: 0.00104, params: {'n_estimators': 50},\n",
       "  mean: 0.99474, std: 0.00126, params: {'n_estimators': 60},\n",
       "  mean: 0.99456, std: 0.00115, params: {'n_estimators': 70},\n",
       "  mean: 0.99511, std: 0.00113, params: {'n_estimators': 80},\n",
       "  mean: 0.99511, std: 0.00110, params: {'n_estimators': 90},\n",
       "  mean: 0.99521, std: 0.00126, params: {'n_estimators': 100},\n",
       "  mean: 0.99548, std: 0.00115, params: {'n_estimators': 110},\n",
       "  mean: 0.99576, std: 0.00099, params: {'n_estimators': 120},\n",
       "  mean: 0.99576, std: 0.00122, params: {'n_estimators': 130},\n",
       "  mean: 0.99566, std: 0.00104, params: {'n_estimators': 140},\n",
       "  mean: 0.99576, std: 0.00099, params: {'n_estimators': 150},\n",
       "  mean: 0.99586, std: 0.00120, params: {'n_estimators': 160},\n",
       "  mean: 0.99586, std: 0.00120, params: {'n_estimators': 170},\n",
       "  mean: 0.99586, std: 0.00120, params: {'n_estimators': 180},\n",
       "  mean: 0.99586, std: 0.00120, params: {'n_estimators': 190},\n",
       "  mean: 0.99577, std: 0.00122, params: {'n_estimators': 200},\n",
       "  mean: 0.99567, std: 0.00130, params: {'n_estimators': 210},\n",
       "  mean: 0.99577, std: 0.00129, params: {'n_estimators': 220},\n",
       "  mean: 0.99577, std: 0.00129, params: {'n_estimators': 230},\n",
       "  mean: 0.99577, std: 0.00129, params: {'n_estimators': 240},\n",
       "  mean: 0.99577, std: 0.00129, params: {'n_estimators': 250},\n",
       "  mean: 0.99558, std: 0.00138, params: {'n_estimators': 260},\n",
       "  mean: 0.99558, std: 0.00138, params: {'n_estimators': 270},\n",
       "  mean: 0.99558, std: 0.00138, params: {'n_estimators': 280},\n",
       "  mean: 0.99567, std: 0.00132, params: {'n_estimators': 290},\n",
       "  mean: 0.99558, std: 0.00138, params: {'n_estimators': 300},\n",
       "  mean: 0.99567, std: 0.00132, params: {'n_estimators': 310},\n",
       "  mean: 0.99567, std: 0.00132, params: {'n_estimators': 320},\n",
       "  mean: 0.99567, std: 0.00132, params: {'n_estimators': 330},\n",
       "  mean: 0.99558, std: 0.00138, params: {'n_estimators': 340},\n",
       "  mean: 0.99567, std: 0.00132, params: {'n_estimators': 350},\n",
       "  mean: 0.99558, std: 0.00138, params: {'n_estimators': 360},\n",
       "  mean: 0.99558, std: 0.00138, params: {'n_estimators': 370},\n",
       "  mean: 0.99567, std: 0.00132, params: {'n_estimators': 380},\n",
       "  mean: 0.99558, std: 0.00138, params: {'n_estimators': 390},\n",
       "  mean: 0.99558, std: 0.00138, params: {'n_estimators': 400},\n",
       "  mean: 0.99558, std: 0.00138, params: {'n_estimators': 410},\n",
       "  mean: 0.99567, std: 0.00132, params: {'n_estimators': 420},\n",
       "  mean: 0.99567, std: 0.00132, params: {'n_estimators': 430},\n",
       "  mean: 0.99558, std: 0.00138, params: {'n_estimators': 440},\n",
       "  mean: 0.99567, std: 0.00132, params: {'n_estimators': 450},\n",
       "  mean: 0.99558, std: 0.00138, params: {'n_estimators': 460},\n",
       "  mean: 0.99558, std: 0.00138, params: {'n_estimators': 470},\n",
       "  mean: 0.99558, std: 0.00138, params: {'n_estimators': 480},\n",
       "  mean: 0.99558, std: 0.00138, params: {'n_estimators': 490},\n",
       "  mean: 0.99558, std: 0.00138, params: {'n_estimators': 500}],\n",
       " {'n_estimators': 160},\n",
       " 0.99585757945302245)"
      ]
     },
     "execution_count": 88,
     "metadata": {},
     "output_type": "execute_result"
    }
   ],
   "source": [
    "param_test1 = {'n_estimators':range(20,501,10)}\n",
    "gsearch1 = GridSearchCV(estimator = GradientBoostingClassifier(learning_rate=0.1, min_samples_split=500,min_samples_leaf=50,max_depth=8,max_features='sqrt',subsample=0.8,random_state=10), \n",
    "param_grid = param_test1, scoring=my_scorer,n_jobs=4,iid=False, cv=5)\n",
    "gsearch1.fit(train_df[predictors],train_df[target])\n",
    "gsearch1.grid_scores_, gsearch1.best_params_, gsearch1.best_score_"
   ]
  },
  {
   "cell_type": "code",
   "execution_count": null,
   "metadata": {
    "collapsed": false
   },
   "outputs": [
    {
     "name": "stderr",
     "output_type": "stream",
     "text": [
      "/Users/stybill/anaconda/lib/python2.7/site-packages/sklearn/model_selection/_search.py:667: DeprecationWarning: The grid_scores_ attribute was deprecated in version 0.18 in favor of the more elaborate cv_results_ attribute. The grid_scores_ attribute will not be available from 0.20\n",
      "  DeprecationWarning)\n"
     ]
    },
    {
     "data": {
      "text/plain": [
       "([mean: 0.99232, std: 0.00181, params: {'min_samples_split': 200, 'max_depth': 1},\n",
       "  mean: 0.99232, std: 0.00181, params: {'min_samples_split': 400, 'max_depth': 1},\n",
       "  mean: 0.99232, std: 0.00181, params: {'min_samples_split': 600, 'max_depth': 1},\n",
       "  mean: 0.99232, std: 0.00181, params: {'min_samples_split': 800, 'max_depth': 1},\n",
       "  mean: 0.99232, std: 0.00181, params: {'min_samples_split': 1000, 'max_depth': 1},\n",
       "  mean: 0.99530, std: 0.00107, params: {'min_samples_split': 200, 'max_depth': 3},\n",
       "  mean: 0.99528, std: 0.00108, params: {'min_samples_split': 400, 'max_depth': 3},\n",
       "  mean: 0.99511, std: 0.00119, params: {'min_samples_split': 600, 'max_depth': 3},\n",
       "  mean: 0.99472, std: 0.00120, params: {'min_samples_split': 800, 'max_depth': 3},\n",
       "  mean: 0.99509, std: 0.00129, params: {'min_samples_split': 1000, 'max_depth': 3},\n",
       "  mean: 0.99567, std: 0.00149, params: {'min_samples_split': 200, 'max_depth': 5},\n",
       "  mean: 0.99603, std: 0.00116, params: {'min_samples_split': 400, 'max_depth': 5},\n",
       "  mean: 0.99574, std: 0.00090, params: {'min_samples_split': 600, 'max_depth': 5},\n",
       "  mean: 0.99537, std: 0.00147, params: {'min_samples_split': 800, 'max_depth': 5},\n",
       "  mean: 0.99555, std: 0.00123, params: {'min_samples_split': 1000, 'max_depth': 5},\n",
       "  mean: 0.99602, std: 0.00129, params: {'min_samples_split': 200, 'max_depth': 7},\n",
       "  mean: 0.99556, std: 0.00112, params: {'min_samples_split': 400, 'max_depth': 7},\n",
       "  mean: 0.99547, std: 0.00132, params: {'min_samples_split': 600, 'max_depth': 7},\n",
       "  mean: 0.99575, std: 0.00094, params: {'min_samples_split': 800, 'max_depth': 7},\n",
       "  mean: 0.99556, std: 0.00150, params: {'min_samples_split': 1000, 'max_depth': 7},\n",
       "  mean: 0.99565, std: 0.00064, params: {'min_samples_split': 200, 'max_depth': 9},\n",
       "  mean: 0.99556, std: 0.00109, params: {'min_samples_split': 400, 'max_depth': 9},\n",
       "  mean: 0.99557, std: 0.00120, params: {'min_samples_split': 600, 'max_depth': 9},\n",
       "  mean: 0.99547, std: 0.00115, params: {'min_samples_split': 800, 'max_depth': 9},\n",
       "  mean: 0.99538, std: 0.00102, params: {'min_samples_split': 1000, 'max_depth': 9},\n",
       "  mean: 0.99594, std: 0.00099, params: {'min_samples_split': 200, 'max_depth': 11},\n",
       "  mean: 0.99574, std: 0.00115, params: {'min_samples_split': 400, 'max_depth': 11},\n",
       "  mean: 0.99548, std: 0.00115, params: {'min_samples_split': 600, 'max_depth': 11},\n",
       "  mean: 0.99519, std: 0.00120, params: {'min_samples_split': 800, 'max_depth': 11},\n",
       "  mean: 0.99538, std: 0.00106, params: {'min_samples_split': 1000, 'max_depth': 11},\n",
       "  mean: 0.99574, std: 0.00108, params: {'min_samples_split': 200, 'max_depth': 13},\n",
       "  mean: 0.99547, std: 0.00138, params: {'min_samples_split': 400, 'max_depth': 13},\n",
       "  mean: 0.99519, std: 0.00123, params: {'min_samples_split': 600, 'max_depth': 13},\n",
       "  mean: 0.99566, std: 0.00103, params: {'min_samples_split': 800, 'max_depth': 13},\n",
       "  mean: 0.99520, std: 0.00159, params: {'min_samples_split': 1000, 'max_depth': 13},\n",
       "  mean: 0.99565, std: 0.00131, params: {'min_samples_split': 200, 'max_depth': 15},\n",
       "  mean: 0.99548, std: 0.00146, params: {'min_samples_split': 400, 'max_depth': 15},\n",
       "  mean: 0.99538, std: 0.00125, params: {'min_samples_split': 600, 'max_depth': 15},\n",
       "  mean: 0.99593, std: 0.00090, params: {'min_samples_split': 800, 'max_depth': 15},\n",
       "  mean: 0.99500, std: 0.00136, params: {'min_samples_split': 1000, 'max_depth': 15}],\n",
       " {'max_depth': 5, 'min_samples_split': 400},\n",
       " 0.99603167311088736)"
      ]
     },
     "execution_count": 92,
     "metadata": {},
     "output_type": "execute_result"
    }
   ],
   "source": [
    "param_test2 = {'max_depth':range(1,16,2), 'min_samples_split':range(200,1001,200)}\n",
    "gsearch2 = GridSearchCV(estimator = GradientBoostingClassifier(learning_rate=0.1, n_estimators=160, max_features='sqrt', subsample=0.8, random_state=10), \n",
    "param_grid = param_test2, scoring=my_scorer,n_jobs=4,iid=False, cv=5)\n",
    "gsearch2.fit(train_df[predictors],train_df[target])\n",
    "gsearch2.grid_scores_, gsearch2.best_params_, gsearch2.best_score_"
   ]
  },
  {
   "cell_type": "code",
   "execution_count": null,
   "metadata": {
    "collapsed": false
   },
   "outputs": [],
   "source": [
    "param_test3 = {'min_samples_split':range(400,2100,200), 'min_samples_leaf':range(30,71,10)}\n",
    "gsearch3 = GridSearchCV(estimator = GradientBoostingClassifier(learning_rate=0.1, n_estimators=160, min_samples_split=400, max_depth=5,max_features='sqrt', subsample=0.8, random_state=10), \n",
    "param_grid = param_test3, scoring=my_scorer,n_jobs=4,iid=False, cv=5)\n",
    "gsearch3.fit(train_df[predictors],train_df[target])\n",
    "gsearch3.grid_scores_, gsearch3.best_params_, gsearch3.best_score_"
   ]
  },
  {
   "cell_type": "code",
   "execution_count": null,
   "metadata": {
    "collapsed": true
   },
   "outputs": [],
   "source": [
    "model_fitting(gsearch3.best_estimator_, train_df, predictors=predictors, target=target)"
   ]
  },
  {
   "cell_type": "code",
   "execution_count": 6,
   "metadata": {
    "collapsed": false
   },
   "outputs": [
    {
     "name": "stdout",
     "output_type": "stream",
     "text": [
      "Accuracy: 99.41%\n",
      "Thresh=0.006, n=33, Accuracy: 99.39%\n",
      "Thresh=0.005, n=42, Accuracy: 99.41%\n",
      "Thresh=0.003, n=88, Accuracy: 99.44%\n",
      "Thresh=0.002, n=135, Accuracy: 99.41%\n",
      "Thresh=0.001, n=259, Accuracy: 99.41%\n",
      "Thresh=0.001, n=398, Accuracy: 99.39%\n",
      "Thresh=0.000, n=1803, Accuracy: 99.41%\n"
     ]
    }
   ],
   "source": [
    "# Load the data\n",
    "train_df = pd.read_csv('LargeTrain.csv')\n",
    "\n",
    "X = train_df.ix[:,0:len(train_df.columns)-2]\n",
    "Y = train_df[\"Class\"]\n",
    "# split data into train and test sets\n",
    "X_train, X_test, y_train, y_test = train_test_split(X, Y, test_size=0.33, random_state=7)\n",
    "# fit model on all training data\n",
    "model = XGBClassifier()\n",
    "model.fit(X_train, y_train)\n",
    "# make predictions for test data and evaluate\n",
    "y_pred = model.predict(X_test)\n",
    "predictions = [round(value) for value in y_pred]\n",
    "accuracy = accuracy_score(y_test, predictions)\n",
    "print(\"Accuracy: %.2f%%\" % (accuracy * 100.0))\n",
    "\n",
    "# Fit model using each importance as a threshold\n",
    "#thresholds = sorted(model.feature_importances_, reverse=True)\n",
    "thresholds = [0.006,0.005,0.003,0.002,0.001,0.0005,0.000]\n",
    "\n",
    "for thresh in thresholds:\n",
    "\t# select features using threshold\n",
    "\tselection = SelectFromModel(model, threshold=thresh, prefit=True)\n",
    "\tselect_X_train = selection.transform(X_train)\n",
    "\t# train model\n",
    "\tselection_model = XGBClassifier()\n",
    "\tselection_model.fit(select_X_train, y_train)\n",
    "\t# eval model\n",
    "\tselect_X_test = selection.transform(X_test)\n",
    "\ty_pred = selection_model.predict(select_X_test)\n",
    "\tpredictions = [round(value) for value in y_pred]\n",
    "\taccuracy = accuracy_score(y_test, predictions)\n",
    "\tprint(\"Thresh=%.3f, n=%d, Accuracy: %.2f%%\" % (thresh, select_X_train.shape[1], accuracy*100.0))"
   ]
  },
  {
   "cell_type": "code",
   "execution_count": 7,
   "metadata": {
    "collapsed": false
   },
   "outputs": [
    {
     "name": "stdout",
     "output_type": "stream",
     "text": [
      "Thresh=0.00210, n=118, Accuracy: 99.470309%\n",
      "Thresh=0.00220, n=118, Accuracy: 99.470309%\n",
      "Thresh=0.00230, n=106, Accuracy: 99.498188%\n",
      "Thresh=0.00240, n=106, Accuracy: 99.498188%\n",
      "Thresh=0.00250, n=106, Accuracy: 99.498188%\n",
      "Thresh=0.00260, n=96, Accuracy: 99.442431%\n",
      "Thresh=0.00270, n=96, Accuracy: 99.442431%\n",
      "Thresh=0.00280, n=88, Accuracy: 99.442431%\n",
      "Thresh=0.00290, n=88, Accuracy: 99.442431%\n",
      "Thresh=0.00300, n=88, Accuracy: 99.442431%\n",
      "Thresh=0.00310, n=79, Accuracy: 99.470309%\n",
      "Thresh=0.00320, n=79, Accuracy: 99.470309%\n",
      "Thresh=0.00330, n=71, Accuracy: 99.414553%\n",
      "Thresh=0.00340, n=71, Accuracy: 99.414553%\n",
      "Thresh=0.00350, n=71, Accuracy: 99.414553%\n",
      "Thresh=0.00360, n=65, Accuracy: 99.358796%\n",
      "Thresh=0.00370, n=65, Accuracy: 99.358796%\n",
      "Thresh=0.00380, n=58, Accuracy: 99.358796%\n",
      "Thresh=0.00390, n=58, Accuracy: 99.358796%\n",
      "Thresh=0.00400, n=58, Accuracy: 99.358796%\n",
      "Thresh=0.00410, n=55, Accuracy: 99.275160%\n",
      "Thresh=0.00420, n=55, Accuracy: 99.275160%\n",
      "Thresh=0.00430, n=52, Accuracy: 99.275160%\n",
      "Thresh=0.00440, n=52, Accuracy: 99.275160%\n",
      "Thresh=0.00450, n=52, Accuracy: 99.275160%\n",
      "Thresh=0.00460, n=48, Accuracy: 99.303039%\n",
      "Thresh=0.00470, n=48, Accuracy: 99.303039%\n",
      "Thresh=0.00480, n=42, Accuracy: 99.414553%\n",
      "Thresh=0.00490, n=42, Accuracy: 99.414553%\n"
     ]
    }
   ],
   "source": [
    "thresholds = np.linspace(0.0021, 0.0049, num = 29)\n",
    "\n",
    "for thresh in thresholds:\n",
    "\t# select features using threshold\n",
    "\tselection = SelectFromModel(model, threshold=thresh, prefit=True)\n",
    "\tselect_X_train = selection.transform(X_train)\n",
    "\t# train model\n",
    "\tselection_model = XGBClassifier()\n",
    "\tselection_model.fit(select_X_train, y_train)\n",
    "\t# eval model\n",
    "\tselect_X_test = selection.transform(X_test)\n",
    "\ty_pred = selection_model.predict(select_X_test)\n",
    "\tpredictions = [round(value) for value in y_pred]\n",
    "\taccuracy = accuracy_score(y_test, predictions)\n",
    "\tprint(\"Thresh=%.5f, n=%d, Accuracy: %.6f%%\" % (thresh, select_X_train.shape[1], accuracy*100.0))"
   ]
  },
  {
   "cell_type": "code",
   "execution_count": null,
   "metadata": {
    "collapsed": true
   },
   "outputs": [],
   "source": [
    "selection = SelectFromModel(model, threshold=0.0025, prefit=True)\n",
    "selected_X_train = selection.transform(X_train)"
   ]
  },
  {
   "cell_type": "code",
   "execution_count": 21,
   "metadata": {
    "collapsed": false
   },
   "outputs": [
    {
     "ename": "ValueError",
     "evalue": "multiclass format is not supported",
     "output_type": "error",
     "traceback": [
      "\u001b[0;31m---------------------------------------------------------------------------\u001b[0m",
      "\u001b[0;31mValueError\u001b[0m                                Traceback (most recent call last)",
      "\u001b[0;32m<ipython-input-21-af1892bcb4d1>\u001b[0m in \u001b[0;36m<module>\u001b[0;34m()\u001b[0m\n\u001b[0;32m----> 1\u001b[0;31m \u001b[0mmodel_fitting\u001b[0m\u001b[0;34m(\u001b[0m\u001b[0mmodel\u001b[0m\u001b[0;34m,\u001b[0m \u001b[0mtrain_df\u001b[0m\u001b[0;34m,\u001b[0m \u001b[0mpredictors\u001b[0m\u001b[0;34m=\u001b[0m\u001b[0mpredictors\u001b[0m\u001b[0;34m,\u001b[0m \u001b[0mtarget\u001b[0m\u001b[0;34m=\u001b[0m\u001b[0mtarget\u001b[0m\u001b[0;34m)\u001b[0m\u001b[0;34m\u001b[0m\u001b[0m\n\u001b[0m",
      "\u001b[0;32m<ipython-input-20-e0ab9a2f9e04>\u001b[0m in \u001b[0;36mmodel_fitting\u001b[0;34m(algorithm, train_data, predictors, target, performCV, printFeatureImportance, cv_folds)\u001b[0m\n\u001b[1;32m     10\u001b[0m     \u001b[0;31m#perform cross-validation\u001b[0m\u001b[0;34m\u001b[0m\u001b[0;34m\u001b[0m\u001b[0m\n\u001b[1;32m     11\u001b[0m     \u001b[0;32mif\u001b[0m \u001b[0mperformCV\u001b[0m\u001b[0;34m:\u001b[0m\u001b[0;34m\u001b[0m\u001b[0m\n\u001b[0;32m---> 12\u001b[0;31m         \u001b[0mcv_score\u001b[0m \u001b[0;34m=\u001b[0m \u001b[0mmodel_selection\u001b[0m\u001b[0;34m.\u001b[0m\u001b[0mcross_val_score\u001b[0m\u001b[0;34m(\u001b[0m\u001b[0malgorithm\u001b[0m\u001b[0;34m,\u001b[0m \u001b[0mtrain_data\u001b[0m\u001b[0;34m[\u001b[0m\u001b[0mpredictors\u001b[0m\u001b[0;34m]\u001b[0m\u001b[0;34m,\u001b[0m \u001b[0mtrain_data\u001b[0m\u001b[0;34m[\u001b[0m\u001b[0;34m'Class'\u001b[0m\u001b[0;34m]\u001b[0m\u001b[0;34m,\u001b[0m \u001b[0mcv\u001b[0m\u001b[0;34m=\u001b[0m\u001b[0mcv_folds\u001b[0m\u001b[0;34m,\u001b[0m \u001b[0mscoring\u001b[0m\u001b[0;34m=\u001b[0m\u001b[0;34m'roc_auc'\u001b[0m\u001b[0;34m)\u001b[0m\u001b[0;34m\u001b[0m\u001b[0m\n\u001b[0m\u001b[1;32m     13\u001b[0m \u001b[0;34m\u001b[0m\u001b[0m\n\u001b[1;32m     14\u001b[0m     \u001b[0;31m#print model report\u001b[0m\u001b[0;34m\u001b[0m\u001b[0;34m\u001b[0m\u001b[0m\n",
      "\u001b[0;32m/Users/stybill/anaconda/lib/python2.7/site-packages/sklearn/model_selection/_validation.pyc\u001b[0m in \u001b[0;36mcross_val_score\u001b[0;34m(estimator, X, y, groups, scoring, cv, n_jobs, verbose, fit_params, pre_dispatch)\u001b[0m\n\u001b[1;32m    138\u001b[0m                                               \u001b[0mtrain\u001b[0m\u001b[0;34m,\u001b[0m \u001b[0mtest\u001b[0m\u001b[0;34m,\u001b[0m \u001b[0mverbose\u001b[0m\u001b[0;34m,\u001b[0m \u001b[0mNone\u001b[0m\u001b[0;34m,\u001b[0m\u001b[0;34m\u001b[0m\u001b[0m\n\u001b[1;32m    139\u001b[0m                                               fit_params)\n\u001b[0;32m--> 140\u001b[0;31m                       for train, test in cv_iter)\n\u001b[0m\u001b[1;32m    141\u001b[0m     \u001b[0;32mreturn\u001b[0m \u001b[0mnp\u001b[0m\u001b[0;34m.\u001b[0m\u001b[0marray\u001b[0m\u001b[0;34m(\u001b[0m\u001b[0mscores\u001b[0m\u001b[0;34m)\u001b[0m\u001b[0;34m[\u001b[0m\u001b[0;34m:\u001b[0m\u001b[0;34m,\u001b[0m \u001b[0;36m0\u001b[0m\u001b[0;34m]\u001b[0m\u001b[0;34m\u001b[0m\u001b[0m\n\u001b[1;32m    142\u001b[0m \u001b[0;34m\u001b[0m\u001b[0m\n",
      "\u001b[0;32m/Users/stybill/anaconda/lib/python2.7/site-packages/sklearn/externals/joblib/parallel.pyc\u001b[0m in \u001b[0;36m__call__\u001b[0;34m(self, iterable)\u001b[0m\n\u001b[1;32m    756\u001b[0m             \u001b[0;31m# was dispatched. In particular this covers the edge\u001b[0m\u001b[0;34m\u001b[0m\u001b[0;34m\u001b[0m\u001b[0m\n\u001b[1;32m    757\u001b[0m             \u001b[0;31m# case of Parallel used with an exhausted iterator.\u001b[0m\u001b[0;34m\u001b[0m\u001b[0;34m\u001b[0m\u001b[0m\n\u001b[0;32m--> 758\u001b[0;31m             \u001b[0;32mwhile\u001b[0m \u001b[0mself\u001b[0m\u001b[0;34m.\u001b[0m\u001b[0mdispatch_one_batch\u001b[0m\u001b[0;34m(\u001b[0m\u001b[0miterator\u001b[0m\u001b[0;34m)\u001b[0m\u001b[0;34m:\u001b[0m\u001b[0;34m\u001b[0m\u001b[0m\n\u001b[0m\u001b[1;32m    759\u001b[0m                 \u001b[0mself\u001b[0m\u001b[0;34m.\u001b[0m\u001b[0m_iterating\u001b[0m \u001b[0;34m=\u001b[0m \u001b[0mTrue\u001b[0m\u001b[0;34m\u001b[0m\u001b[0m\n\u001b[1;32m    760\u001b[0m             \u001b[0;32melse\u001b[0m\u001b[0;34m:\u001b[0m\u001b[0;34m\u001b[0m\u001b[0m\n",
      "\u001b[0;32m/Users/stybill/anaconda/lib/python2.7/site-packages/sklearn/externals/joblib/parallel.pyc\u001b[0m in \u001b[0;36mdispatch_one_batch\u001b[0;34m(self, iterator)\u001b[0m\n\u001b[1;32m    606\u001b[0m                 \u001b[0;32mreturn\u001b[0m \u001b[0mFalse\u001b[0m\u001b[0;34m\u001b[0m\u001b[0m\n\u001b[1;32m    607\u001b[0m             \u001b[0;32melse\u001b[0m\u001b[0;34m:\u001b[0m\u001b[0;34m\u001b[0m\u001b[0m\n\u001b[0;32m--> 608\u001b[0;31m                 \u001b[0mself\u001b[0m\u001b[0;34m.\u001b[0m\u001b[0m_dispatch\u001b[0m\u001b[0;34m(\u001b[0m\u001b[0mtasks\u001b[0m\u001b[0;34m)\u001b[0m\u001b[0;34m\u001b[0m\u001b[0m\n\u001b[0m\u001b[1;32m    609\u001b[0m                 \u001b[0;32mreturn\u001b[0m \u001b[0mTrue\u001b[0m\u001b[0;34m\u001b[0m\u001b[0m\n\u001b[1;32m    610\u001b[0m \u001b[0;34m\u001b[0m\u001b[0m\n",
      "\u001b[0;32m/Users/stybill/anaconda/lib/python2.7/site-packages/sklearn/externals/joblib/parallel.pyc\u001b[0m in \u001b[0;36m_dispatch\u001b[0;34m(self, batch)\u001b[0m\n\u001b[1;32m    569\u001b[0m         \u001b[0mdispatch_timestamp\u001b[0m \u001b[0;34m=\u001b[0m \u001b[0mtime\u001b[0m\u001b[0;34m.\u001b[0m\u001b[0mtime\u001b[0m\u001b[0;34m(\u001b[0m\u001b[0;34m)\u001b[0m\u001b[0;34m\u001b[0m\u001b[0m\n\u001b[1;32m    570\u001b[0m         \u001b[0mcb\u001b[0m \u001b[0;34m=\u001b[0m \u001b[0mBatchCompletionCallBack\u001b[0m\u001b[0;34m(\u001b[0m\u001b[0mdispatch_timestamp\u001b[0m\u001b[0;34m,\u001b[0m \u001b[0mlen\u001b[0m\u001b[0;34m(\u001b[0m\u001b[0mbatch\u001b[0m\u001b[0;34m)\u001b[0m\u001b[0;34m,\u001b[0m \u001b[0mself\u001b[0m\u001b[0;34m)\u001b[0m\u001b[0;34m\u001b[0m\u001b[0m\n\u001b[0;32m--> 571\u001b[0;31m         \u001b[0mjob\u001b[0m \u001b[0;34m=\u001b[0m \u001b[0mself\u001b[0m\u001b[0;34m.\u001b[0m\u001b[0m_backend\u001b[0m\u001b[0;34m.\u001b[0m\u001b[0mapply_async\u001b[0m\u001b[0;34m(\u001b[0m\u001b[0mbatch\u001b[0m\u001b[0;34m,\u001b[0m \u001b[0mcallback\u001b[0m\u001b[0;34m=\u001b[0m\u001b[0mcb\u001b[0m\u001b[0;34m)\u001b[0m\u001b[0;34m\u001b[0m\u001b[0m\n\u001b[0m\u001b[1;32m    572\u001b[0m         \u001b[0mself\u001b[0m\u001b[0;34m.\u001b[0m\u001b[0m_jobs\u001b[0m\u001b[0;34m.\u001b[0m\u001b[0mappend\u001b[0m\u001b[0;34m(\u001b[0m\u001b[0mjob\u001b[0m\u001b[0;34m)\u001b[0m\u001b[0;34m\u001b[0m\u001b[0m\n\u001b[1;32m    573\u001b[0m \u001b[0;34m\u001b[0m\u001b[0m\n",
      "\u001b[0;32m/Users/stybill/anaconda/lib/python2.7/site-packages/sklearn/externals/joblib/_parallel_backends.pyc\u001b[0m in \u001b[0;36mapply_async\u001b[0;34m(self, func, callback)\u001b[0m\n\u001b[1;32m    107\u001b[0m     \u001b[0;32mdef\u001b[0m \u001b[0mapply_async\u001b[0m\u001b[0;34m(\u001b[0m\u001b[0mself\u001b[0m\u001b[0;34m,\u001b[0m \u001b[0mfunc\u001b[0m\u001b[0;34m,\u001b[0m \u001b[0mcallback\u001b[0m\u001b[0;34m=\u001b[0m\u001b[0mNone\u001b[0m\u001b[0;34m)\u001b[0m\u001b[0;34m:\u001b[0m\u001b[0;34m\u001b[0m\u001b[0m\n\u001b[1;32m    108\u001b[0m         \u001b[0;34m\"\"\"Schedule a func to be run\"\"\"\u001b[0m\u001b[0;34m\u001b[0m\u001b[0m\n\u001b[0;32m--> 109\u001b[0;31m         \u001b[0mresult\u001b[0m \u001b[0;34m=\u001b[0m \u001b[0mImmediateResult\u001b[0m\u001b[0;34m(\u001b[0m\u001b[0mfunc\u001b[0m\u001b[0;34m)\u001b[0m\u001b[0;34m\u001b[0m\u001b[0m\n\u001b[0m\u001b[1;32m    110\u001b[0m         \u001b[0;32mif\u001b[0m \u001b[0mcallback\u001b[0m\u001b[0;34m:\u001b[0m\u001b[0;34m\u001b[0m\u001b[0m\n\u001b[1;32m    111\u001b[0m             \u001b[0mcallback\u001b[0m\u001b[0;34m(\u001b[0m\u001b[0mresult\u001b[0m\u001b[0;34m)\u001b[0m\u001b[0;34m\u001b[0m\u001b[0m\n",
      "\u001b[0;32m/Users/stybill/anaconda/lib/python2.7/site-packages/sklearn/externals/joblib/_parallel_backends.pyc\u001b[0m in \u001b[0;36m__init__\u001b[0;34m(self, batch)\u001b[0m\n\u001b[1;32m    324\u001b[0m         \u001b[0;31m# Don't delay the application, to avoid keeping the input\u001b[0m\u001b[0;34m\u001b[0m\u001b[0;34m\u001b[0m\u001b[0m\n\u001b[1;32m    325\u001b[0m         \u001b[0;31m# arguments in memory\u001b[0m\u001b[0;34m\u001b[0m\u001b[0;34m\u001b[0m\u001b[0m\n\u001b[0;32m--> 326\u001b[0;31m         \u001b[0mself\u001b[0m\u001b[0;34m.\u001b[0m\u001b[0mresults\u001b[0m \u001b[0;34m=\u001b[0m \u001b[0mbatch\u001b[0m\u001b[0;34m(\u001b[0m\u001b[0;34m)\u001b[0m\u001b[0;34m\u001b[0m\u001b[0m\n\u001b[0m\u001b[1;32m    327\u001b[0m \u001b[0;34m\u001b[0m\u001b[0m\n\u001b[1;32m    328\u001b[0m     \u001b[0;32mdef\u001b[0m \u001b[0mget\u001b[0m\u001b[0;34m(\u001b[0m\u001b[0mself\u001b[0m\u001b[0;34m)\u001b[0m\u001b[0;34m:\u001b[0m\u001b[0;34m\u001b[0m\u001b[0m\n",
      "\u001b[0;32m/Users/stybill/anaconda/lib/python2.7/site-packages/sklearn/externals/joblib/parallel.pyc\u001b[0m in \u001b[0;36m__call__\u001b[0;34m(self)\u001b[0m\n\u001b[1;32m    129\u001b[0m \u001b[0;34m\u001b[0m\u001b[0m\n\u001b[1;32m    130\u001b[0m     \u001b[0;32mdef\u001b[0m \u001b[0m__call__\u001b[0m\u001b[0;34m(\u001b[0m\u001b[0mself\u001b[0m\u001b[0;34m)\u001b[0m\u001b[0;34m:\u001b[0m\u001b[0;34m\u001b[0m\u001b[0m\n\u001b[0;32m--> 131\u001b[0;31m         \u001b[0;32mreturn\u001b[0m \u001b[0;34m[\u001b[0m\u001b[0mfunc\u001b[0m\u001b[0;34m(\u001b[0m\u001b[0;34m*\u001b[0m\u001b[0margs\u001b[0m\u001b[0;34m,\u001b[0m \u001b[0;34m**\u001b[0m\u001b[0mkwargs\u001b[0m\u001b[0;34m)\u001b[0m \u001b[0;32mfor\u001b[0m \u001b[0mfunc\u001b[0m\u001b[0;34m,\u001b[0m \u001b[0margs\u001b[0m\u001b[0;34m,\u001b[0m \u001b[0mkwargs\u001b[0m \u001b[0;32min\u001b[0m \u001b[0mself\u001b[0m\u001b[0;34m.\u001b[0m\u001b[0mitems\u001b[0m\u001b[0;34m]\u001b[0m\u001b[0;34m\u001b[0m\u001b[0m\n\u001b[0m\u001b[1;32m    132\u001b[0m \u001b[0;34m\u001b[0m\u001b[0m\n\u001b[1;32m    133\u001b[0m     \u001b[0;32mdef\u001b[0m \u001b[0m__len__\u001b[0m\u001b[0;34m(\u001b[0m\u001b[0mself\u001b[0m\u001b[0;34m)\u001b[0m\u001b[0;34m:\u001b[0m\u001b[0;34m\u001b[0m\u001b[0m\n",
      "\u001b[0;32m/Users/stybill/anaconda/lib/python2.7/site-packages/sklearn/model_selection/_validation.pyc\u001b[0m in \u001b[0;36m_fit_and_score\u001b[0;34m(estimator, X, y, scorer, train, test, verbose, parameters, fit_params, return_train_score, return_parameters, return_n_test_samples, return_times, error_score)\u001b[0m\n\u001b[1;32m    258\u001b[0m     \u001b[0;32melse\u001b[0m\u001b[0;34m:\u001b[0m\u001b[0;34m\u001b[0m\u001b[0m\n\u001b[1;32m    259\u001b[0m         \u001b[0mfit_time\u001b[0m \u001b[0;34m=\u001b[0m \u001b[0mtime\u001b[0m\u001b[0;34m.\u001b[0m\u001b[0mtime\u001b[0m\u001b[0;34m(\u001b[0m\u001b[0;34m)\u001b[0m \u001b[0;34m-\u001b[0m \u001b[0mstart_time\u001b[0m\u001b[0;34m\u001b[0m\u001b[0m\n\u001b[0;32m--> 260\u001b[0;31m         \u001b[0mtest_score\u001b[0m \u001b[0;34m=\u001b[0m \u001b[0m_score\u001b[0m\u001b[0;34m(\u001b[0m\u001b[0mestimator\u001b[0m\u001b[0;34m,\u001b[0m \u001b[0mX_test\u001b[0m\u001b[0;34m,\u001b[0m \u001b[0my_test\u001b[0m\u001b[0;34m,\u001b[0m \u001b[0mscorer\u001b[0m\u001b[0;34m)\u001b[0m\u001b[0;34m\u001b[0m\u001b[0m\n\u001b[0m\u001b[1;32m    261\u001b[0m         \u001b[0mscore_time\u001b[0m \u001b[0;34m=\u001b[0m \u001b[0mtime\u001b[0m\u001b[0;34m.\u001b[0m\u001b[0mtime\u001b[0m\u001b[0;34m(\u001b[0m\u001b[0;34m)\u001b[0m \u001b[0;34m-\u001b[0m \u001b[0mstart_time\u001b[0m \u001b[0;34m-\u001b[0m \u001b[0mfit_time\u001b[0m\u001b[0;34m\u001b[0m\u001b[0m\n\u001b[1;32m    262\u001b[0m         \u001b[0;32mif\u001b[0m \u001b[0mreturn_train_score\u001b[0m\u001b[0;34m:\u001b[0m\u001b[0;34m\u001b[0m\u001b[0m\n",
      "\u001b[0;32m/Users/stybill/anaconda/lib/python2.7/site-packages/sklearn/model_selection/_validation.pyc\u001b[0m in \u001b[0;36m_score\u001b[0;34m(estimator, X_test, y_test, scorer)\u001b[0m\n\u001b[1;32m    286\u001b[0m         \u001b[0mscore\u001b[0m \u001b[0;34m=\u001b[0m \u001b[0mscorer\u001b[0m\u001b[0;34m(\u001b[0m\u001b[0mestimator\u001b[0m\u001b[0;34m,\u001b[0m \u001b[0mX_test\u001b[0m\u001b[0;34m)\u001b[0m\u001b[0;34m\u001b[0m\u001b[0m\n\u001b[1;32m    287\u001b[0m     \u001b[0;32melse\u001b[0m\u001b[0;34m:\u001b[0m\u001b[0;34m\u001b[0m\u001b[0m\n\u001b[0;32m--> 288\u001b[0;31m         \u001b[0mscore\u001b[0m \u001b[0;34m=\u001b[0m \u001b[0mscorer\u001b[0m\u001b[0;34m(\u001b[0m\u001b[0mestimator\u001b[0m\u001b[0;34m,\u001b[0m \u001b[0mX_test\u001b[0m\u001b[0;34m,\u001b[0m \u001b[0my_test\u001b[0m\u001b[0;34m)\u001b[0m\u001b[0;34m\u001b[0m\u001b[0m\n\u001b[0m\u001b[1;32m    289\u001b[0m     \u001b[0;32mif\u001b[0m \u001b[0mhasattr\u001b[0m\u001b[0;34m(\u001b[0m\u001b[0mscore\u001b[0m\u001b[0;34m,\u001b[0m \u001b[0;34m'item'\u001b[0m\u001b[0;34m)\u001b[0m\u001b[0;34m:\u001b[0m\u001b[0;34m\u001b[0m\u001b[0m\n\u001b[1;32m    290\u001b[0m         \u001b[0;32mtry\u001b[0m\u001b[0;34m:\u001b[0m\u001b[0;34m\u001b[0m\u001b[0m\n",
      "\u001b[0;32m/Users/stybill/anaconda/lib/python2.7/site-packages/sklearn/metrics/scorer.pyc\u001b[0m in \u001b[0;36m__call__\u001b[0;34m(self, clf, X, y, sample_weight)\u001b[0m\n\u001b[1;32m    169\u001b[0m         \u001b[0my_type\u001b[0m \u001b[0;34m=\u001b[0m \u001b[0mtype_of_target\u001b[0m\u001b[0;34m(\u001b[0m\u001b[0my\u001b[0m\u001b[0;34m)\u001b[0m\u001b[0;34m\u001b[0m\u001b[0m\n\u001b[1;32m    170\u001b[0m         \u001b[0;32mif\u001b[0m \u001b[0my_type\u001b[0m \u001b[0;32mnot\u001b[0m \u001b[0;32min\u001b[0m \u001b[0;34m(\u001b[0m\u001b[0;34m\"binary\"\u001b[0m\u001b[0;34m,\u001b[0m \u001b[0;34m\"multilabel-indicator\"\u001b[0m\u001b[0;34m)\u001b[0m\u001b[0;34m:\u001b[0m\u001b[0;34m\u001b[0m\u001b[0m\n\u001b[0;32m--> 171\u001b[0;31m             \u001b[0;32mraise\u001b[0m \u001b[0mValueError\u001b[0m\u001b[0;34m(\u001b[0m\u001b[0;34m\"{0} format is not supported\"\u001b[0m\u001b[0;34m.\u001b[0m\u001b[0mformat\u001b[0m\u001b[0;34m(\u001b[0m\u001b[0my_type\u001b[0m\u001b[0;34m)\u001b[0m\u001b[0;34m)\u001b[0m\u001b[0;34m\u001b[0m\u001b[0m\n\u001b[0m\u001b[1;32m    172\u001b[0m \u001b[0;34m\u001b[0m\u001b[0m\n\u001b[1;32m    173\u001b[0m         \u001b[0;32mif\u001b[0m \u001b[0mis_regressor\u001b[0m\u001b[0;34m(\u001b[0m\u001b[0mclf\u001b[0m\u001b[0;34m)\u001b[0m\u001b[0;34m:\u001b[0m\u001b[0;34m\u001b[0m\u001b[0m\n",
      "\u001b[0;31mValueError\u001b[0m: multiclass format is not supported"
     ]
    }
   ],
   "source": [
    "model_fitting(model, train_df, predictors=predictors, target=target)"
   ]
  },
  {
   "cell_type": "code",
   "execution_count": 15,
   "metadata": {
    "collapsed": false
   },
   "outputs": [],
   "source": []
  },
  {
   "cell_type": "code",
   "execution_count": 11,
   "metadata": {
    "collapsed": false
   },
   "outputs": [
    {
     "ename": "TypeError",
     "evalue": "cannot create 'numpy.integer' instances",
     "output_type": "error",
     "traceback": [
      "\u001b[0;31m---------------------------------------------------------------------------\u001b[0m",
      "\u001b[0;31mTypeError\u001b[0m                                 Traceback (most recent call last)",
      "\u001b[0;32m<ipython-input-11-550f120fb737>\u001b[0m in \u001b[0;36m<module>\u001b[0;34m()\u001b[0m\n\u001b[0;32m----> 1\u001b[0;31m \u001b[0;32mprint\u001b[0m\u001b[0;34m(\u001b[0m\u001b[0mnp\u001b[0m\u001b[0;34m.\u001b[0m\u001b[0minteger\u001b[0m\u001b[0;34m(\u001b[0m\u001b[0mnp\u001b[0m\u001b[0;34m.\u001b[0m\u001b[0mlinspace\u001b[0m\u001b[0;34m(\u001b[0m\u001b[0;36m1\u001b[0m\u001b[0;34m,\u001b[0m \u001b[0;36m9\u001b[0m\u001b[0;34m,\u001b[0m \u001b[0;36m9\u001b[0m\u001b[0;34m)\u001b[0m\u001b[0;34m)\u001b[0m\u001b[0;34m)\u001b[0m\u001b[0;34m\u001b[0m\u001b[0m\n\u001b[0m",
      "\u001b[0;31mTypeError\u001b[0m: cannot create 'numpy.integer' instances"
     ]
    }
   ],
   "source": []
  }
 ],
 "metadata": {
  "anaconda-cloud": {},
  "kernelspec": {
   "display_name": "Python [conda root]",
   "language": "python",
   "name": "conda-root-py"
  },
  "language_info": {
   "codemirror_mode": {
    "name": "ipython",
    "version": 2
   },
   "file_extension": ".py",
   "mimetype": "text/x-python",
   "name": "python",
   "nbconvert_exporter": "python",
   "pygments_lexer": "ipython2",
   "version": "2.7.12"
  }
 },
 "nbformat": 4,
 "nbformat_minor": 1
}

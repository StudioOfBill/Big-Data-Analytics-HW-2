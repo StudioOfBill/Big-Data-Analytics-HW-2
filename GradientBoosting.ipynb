{
 "cells": [
  {
   "cell_type": "code",
   "execution_count": 1,
   "metadata": {
    "collapsed": false
   },
   "outputs": [],
   "source": [
    "#Import libraries:\n",
    "import pandas as pd\n",
    "import numpy as np\n",
    "from sklearn.ensemble import GradientBoostingClassifier  #GBM algorithm\n",
    "from sklearn import model_selection, metrics   #Additional scklearn functions\n",
    "from sklearn.model_selection import GridSearchCV, StratifiedKFold   #Perforing grid search\n",
    "import matplotlib.pylab as plt\n",
    "%matplotlib inline\n",
    "from matplotlib.pylab import rcParams\n",
    "from xgboost import XGBClassifier\n",
    "from sklearn.model_selection import train_test_split\n",
    "from sklearn.metrics import accuracy_score\n",
    "from sklearn.feature_selection import SelectFromModel\n",
    "from sklearn.metrics import roc_curve, auc, cohen_kappa_score\n",
    "from itertools import cycle\n",
    "from sklearn.model_selection import StratifiedKFold\n",
    "import seaborn as sb"
   ]
  },
  {
   "cell_type": "code",
   "execution_count": 2,
   "metadata": {
    "collapsed": true
   },
   "outputs": [],
   "source": [
    "rcParams['figure.figsize'] = 12, 4"
   ]
  },
  {
   "cell_type": "code",
   "execution_count": 2,
   "metadata": {
    "collapsed": false,
    "scrolled": false
   },
   "outputs": [
    {
     "data": {
      "text/html": [
       "<div>\n",
       "<table border=\"1\" class=\"dataframe\">\n",
       "  <thead>\n",
       "    <tr style=\"text-align: right;\">\n",
       "      <th></th>\n",
       "      <th>Virtual</th>\n",
       "      <th>Offset</th>\n",
       "      <th>loc</th>\n",
       "      <th>Import</th>\n",
       "      <th>Imports</th>\n",
       "      <th>var</th>\n",
       "      <th>Forwarder</th>\n",
       "      <th>UINT</th>\n",
       "      <th>LONG</th>\n",
       "      <th>BOOL</th>\n",
       "      <th>...</th>\n",
       "      <th>Img99</th>\n",
       "      <th>Img100</th>\n",
       "      <th>Img101</th>\n",
       "      <th>Img102</th>\n",
       "      <th>Img103</th>\n",
       "      <th>Img104</th>\n",
       "      <th>Img105</th>\n",
       "      <th>Img106</th>\n",
       "      <th>Img107</th>\n",
       "      <th>Class</th>\n",
       "    </tr>\n",
       "  </thead>\n",
       "  <tbody>\n",
       "    <tr>\n",
       "      <th>0</th>\n",
       "      <td>3</td>\n",
       "      <td>3</td>\n",
       "      <td>689</td>\n",
       "      <td>18</td>\n",
       "      <td>6</td>\n",
       "      <td>890</td>\n",
       "      <td>6</td>\n",
       "      <td>39</td>\n",
       "      <td>17</td>\n",
       "      <td>88</td>\n",
       "      <td>...</td>\n",
       "      <td>35148.0</td>\n",
       "      <td>8687.0</td>\n",
       "      <td>55835.0</td>\n",
       "      <td>9078.0</td>\n",
       "      <td>21355.0</td>\n",
       "      <td>56302.0</td>\n",
       "      <td>10380.0</td>\n",
       "      <td>171979.0</td>\n",
       "      <td>162674.0</td>\n",
       "      <td>2</td>\n",
       "    </tr>\n",
       "    <tr>\n",
       "      <th>1</th>\n",
       "      <td>3</td>\n",
       "      <td>3</td>\n",
       "      <td>583</td>\n",
       "      <td>15</td>\n",
       "      <td>5</td>\n",
       "      <td>1574</td>\n",
       "      <td>5</td>\n",
       "      <td>6</td>\n",
       "      <td>7</td>\n",
       "      <td>30</td>\n",
       "      <td>...</td>\n",
       "      <td>571.0</td>\n",
       "      <td>718.0</td>\n",
       "      <td>1762.0</td>\n",
       "      <td>642.0</td>\n",
       "      <td>1820.0</td>\n",
       "      <td>1675.0</td>\n",
       "      <td>1100.0</td>\n",
       "      <td>7702.0</td>\n",
       "      <td>6551.0</td>\n",
       "      <td>8</td>\n",
       "    </tr>\n",
       "    <tr>\n",
       "      <th>2</th>\n",
       "      <td>3</td>\n",
       "      <td>4</td>\n",
       "      <td>2796</td>\n",
       "      <td>15</td>\n",
       "      <td>5</td>\n",
       "      <td>625</td>\n",
       "      <td>5</td>\n",
       "      <td>58</td>\n",
       "      <td>11</td>\n",
       "      <td>152</td>\n",
       "      <td>...</td>\n",
       "      <td>29872.0</td>\n",
       "      <td>16910.0</td>\n",
       "      <td>31708.0</td>\n",
       "      <td>9000.0</td>\n",
       "      <td>17586.0</td>\n",
       "      <td>30719.0</td>\n",
       "      <td>30062.0</td>\n",
       "      <td>55331.0</td>\n",
       "      <td>12946.0</td>\n",
       "      <td>9</td>\n",
       "    </tr>\n",
       "    <tr>\n",
       "      <th>3</th>\n",
       "      <td>3</td>\n",
       "      <td>3</td>\n",
       "      <td>373</td>\n",
       "      <td>27</td>\n",
       "      <td>9</td>\n",
       "      <td>615</td>\n",
       "      <td>9</td>\n",
       "      <td>16</td>\n",
       "      <td>10</td>\n",
       "      <td>34</td>\n",
       "      <td>...</td>\n",
       "      <td>10742.0</td>\n",
       "      <td>9755.0</td>\n",
       "      <td>26992.0</td>\n",
       "      <td>9069.0</td>\n",
       "      <td>24885.0</td>\n",
       "      <td>27108.0</td>\n",
       "      <td>13219.0</td>\n",
       "      <td>122247.0</td>\n",
       "      <td>98621.0</td>\n",
       "      <td>9</td>\n",
       "    </tr>\n",
       "    <tr>\n",
       "      <th>4</th>\n",
       "      <td>3</td>\n",
       "      <td>3</td>\n",
       "      <td>77</td>\n",
       "      <td>12</td>\n",
       "      <td>4</td>\n",
       "      <td>66</td>\n",
       "      <td>4</td>\n",
       "      <td>3</td>\n",
       "      <td>0</td>\n",
       "      <td>5</td>\n",
       "      <td>...</td>\n",
       "      <td>962.0</td>\n",
       "      <td>1307.0</td>\n",
       "      <td>3119.0</td>\n",
       "      <td>1172.0</td>\n",
       "      <td>3522.0</td>\n",
       "      <td>3245.0</td>\n",
       "      <td>2001.0</td>\n",
       "      <td>15501.0</td>\n",
       "      <td>11864.0</td>\n",
       "      <td>1</td>\n",
       "    </tr>\n",
       "  </tbody>\n",
       "</table>\n",
       "<p>5 rows × 1805 columns</p>\n",
       "</div>"
      ],
      "text/plain": [
       "   Virtual  Offset   loc  Import  Imports   var  Forwarder  UINT  LONG  BOOL  \\\n",
       "0        3       3   689      18        6   890          6    39    17    88   \n",
       "1        3       3   583      15        5  1574          5     6     7    30   \n",
       "2        3       4  2796      15        5   625          5    58    11   152   \n",
       "3        3       3   373      27        9   615          9    16    10    34   \n",
       "4        3       3    77      12        4    66          4     3     0     5   \n",
       "\n",
       "   ...      Img99   Img100   Img101  Img102   Img103   Img104   Img105  \\\n",
       "0  ...    35148.0   8687.0  55835.0  9078.0  21355.0  56302.0  10380.0   \n",
       "1  ...      571.0    718.0   1762.0   642.0   1820.0   1675.0   1100.0   \n",
       "2  ...    29872.0  16910.0  31708.0  9000.0  17586.0  30719.0  30062.0   \n",
       "3  ...    10742.0   9755.0  26992.0  9069.0  24885.0  27108.0  13219.0   \n",
       "4  ...      962.0   1307.0   3119.0  1172.0   3522.0   3245.0   2001.0   \n",
       "\n",
       "     Img106    Img107  Class  \n",
       "0  171979.0  162674.0      2  \n",
       "1    7702.0    6551.0      8  \n",
       "2   55331.0   12946.0      9  \n",
       "3  122247.0   98621.0      9  \n",
       "4   15501.0   11864.0      1  \n",
       "\n",
       "[5 rows x 1805 columns]"
      ]
     },
     "execution_count": 2,
     "metadata": {},
     "output_type": "execute_result"
    }
   ],
   "source": [
    "malware_data = pd.read_csv('LargeTrain.csv')\n",
    "malware_data.head()"
   ]
  },
  {
   "cell_type": "code",
   "execution_count": 24,
   "metadata": {
    "collapsed": false
   },
   "outputs": [
    {
     "data": {
      "text/html": [
       "<div>\n",
       "<table border=\"1\" class=\"dataframe\">\n",
       "  <thead>\n",
       "    <tr style=\"text-align: right;\">\n",
       "      <th></th>\n",
       "      <th>Virtual</th>\n",
       "      <th>Offset</th>\n",
       "      <th>loc</th>\n",
       "      <th>Import</th>\n",
       "      <th>Imports</th>\n",
       "      <th>var</th>\n",
       "      <th>Forwarder</th>\n",
       "      <th>UINT</th>\n",
       "      <th>LONG</th>\n",
       "      <th>BOOL</th>\n",
       "      <th>...</th>\n",
       "      <th>Img99</th>\n",
       "      <th>Img100</th>\n",
       "      <th>Img101</th>\n",
       "      <th>Img102</th>\n",
       "      <th>Img103</th>\n",
       "      <th>Img104</th>\n",
       "      <th>Img105</th>\n",
       "      <th>Img106</th>\n",
       "      <th>Img107</th>\n",
       "      <th>Class</th>\n",
       "    </tr>\n",
       "  </thead>\n",
       "  <tbody>\n",
       "    <tr>\n",
       "      <th>count</th>\n",
       "      <td>10868.000000</td>\n",
       "      <td>10868.000000</td>\n",
       "      <td>10868.000000</td>\n",
       "      <td>10868.000000</td>\n",
       "      <td>10868.000000</td>\n",
       "      <td>10868.000000</td>\n",
       "      <td>10868.000000</td>\n",
       "      <td>10868.000000</td>\n",
       "      <td>10868.000000</td>\n",
       "      <td>10868.000000</td>\n",
       "      <td>...</td>\n",
       "      <td>10868.000000</td>\n",
       "      <td>10868.000000</td>\n",
       "      <td>10868.000000</td>\n",
       "      <td>10868.000000</td>\n",
       "      <td>10868.000000</td>\n",
       "      <td>10868.000000</td>\n",
       "      <td>10868.000000</td>\n",
       "      <td>10868.000000</td>\n",
       "      <td>10868.000000</td>\n",
       "      <td>10868.000000</td>\n",
       "    </tr>\n",
       "    <tr>\n",
       "      <th>mean</th>\n",
       "      <td>3.279076</td>\n",
       "      <td>3.500552</td>\n",
       "      <td>1990.713747</td>\n",
       "      <td>11.586861</td>\n",
       "      <td>4.934671</td>\n",
       "      <td>1264.397957</td>\n",
       "      <td>3.845786</td>\n",
       "      <td>16.559717</td>\n",
       "      <td>5.552908</td>\n",
       "      <td>31.011502</td>\n",
       "      <td>...</td>\n",
       "      <td>10840.809901</td>\n",
       "      <td>5067.437155</td>\n",
       "      <td>19206.655962</td>\n",
       "      <td>4861.557508</td>\n",
       "      <td>13055.646853</td>\n",
       "      <td>19358.439179</td>\n",
       "      <td>7070.320482</td>\n",
       "      <td>66860.996319</td>\n",
       "      <td>53866.402926</td>\n",
       "      <td>4.017851</td>\n",
       "    </tr>\n",
       "    <tr>\n",
       "      <th>std</th>\n",
       "      <td>0.936296</td>\n",
       "      <td>3.725526</td>\n",
       "      <td>5827.675688</td>\n",
       "      <td>8.986606</td>\n",
       "      <td>2.637995</td>\n",
       "      <td>3902.380905</td>\n",
       "      <td>2.925528</td>\n",
       "      <td>23.203308</td>\n",
       "      <td>7.285566</td>\n",
       "      <td>37.299279</td>\n",
       "      <td>...</td>\n",
       "      <td>18299.174269</td>\n",
       "      <td>4215.541706</td>\n",
       "      <td>23749.881264</td>\n",
       "      <td>4084.822497</td>\n",
       "      <td>10759.321012</td>\n",
       "      <td>24745.353583</td>\n",
       "      <td>5963.469543</td>\n",
       "      <td>66364.332846</td>\n",
       "      <td>53145.701929</td>\n",
       "      <td>2.684621</td>\n",
       "    </tr>\n",
       "    <tr>\n",
       "      <th>min</th>\n",
       "      <td>0.000000</td>\n",
       "      <td>0.000000</td>\n",
       "      <td>0.000000</td>\n",
       "      <td>0.000000</td>\n",
       "      <td>0.000000</td>\n",
       "      <td>0.000000</td>\n",
       "      <td>0.000000</td>\n",
       "      <td>0.000000</td>\n",
       "      <td>0.000000</td>\n",
       "      <td>0.000000</td>\n",
       "      <td>...</td>\n",
       "      <td>0.000000</td>\n",
       "      <td>0.000000</td>\n",
       "      <td>0.000000</td>\n",
       "      <td>0.000000</td>\n",
       "      <td>0.000000</td>\n",
       "      <td>0.000000</td>\n",
       "      <td>0.000000</td>\n",
       "      <td>0.000000</td>\n",
       "      <td>0.000000</td>\n",
       "      <td>1.000000</td>\n",
       "    </tr>\n",
       "    <tr>\n",
       "      <th>25%</th>\n",
       "      <td>3.000000</td>\n",
       "      <td>3.000000</td>\n",
       "      <td>58.000000</td>\n",
       "      <td>3.000000</td>\n",
       "      <td>4.000000</td>\n",
       "      <td>37.000000</td>\n",
       "      <td>1.000000</td>\n",
       "      <td>6.000000</td>\n",
       "      <td>0.000000</td>\n",
       "      <td>13.000000</td>\n",
       "      <td>...</td>\n",
       "      <td>1124.000000</td>\n",
       "      <td>1321.000000</td>\n",
       "      <td>3262.000000</td>\n",
       "      <td>1158.750000</td>\n",
       "      <td>3108.000000</td>\n",
       "      <td>3130.750000</td>\n",
       "      <td>1964.750000</td>\n",
       "      <td>11990.250000</td>\n",
       "      <td>7706.000000</td>\n",
       "      <td>2.000000</td>\n",
       "    </tr>\n",
       "    <tr>\n",
       "      <th>50%</th>\n",
       "      <td>3.000000</td>\n",
       "      <td>3.000000</td>\n",
       "      <td>513.000000</td>\n",
       "      <td>12.000000</td>\n",
       "      <td>4.000000</td>\n",
       "      <td>364.000000</td>\n",
       "      <td>4.000000</td>\n",
       "      <td>11.000000</td>\n",
       "      <td>4.000000</td>\n",
       "      <td>19.000000</td>\n",
       "      <td>...</td>\n",
       "      <td>5585.500000</td>\n",
       "      <td>5323.500000</td>\n",
       "      <td>14902.000000</td>\n",
       "      <td>5129.500000</td>\n",
       "      <td>14752.000000</td>\n",
       "      <td>14921.000000</td>\n",
       "      <td>7437.500000</td>\n",
       "      <td>62384.500000</td>\n",
       "      <td>45639.000000</td>\n",
       "      <td>3.000000</td>\n",
       "    </tr>\n",
       "    <tr>\n",
       "      <th>75%</th>\n",
       "      <td>3.000000</td>\n",
       "      <td>4.000000</td>\n",
       "      <td>1652.500000</td>\n",
       "      <td>18.000000</td>\n",
       "      <td>6.000000</td>\n",
       "      <td>1044.000000</td>\n",
       "      <td>5.000000</td>\n",
       "      <td>17.000000</td>\n",
       "      <td>9.000000</td>\n",
       "      <td>33.250000</td>\n",
       "      <td>...</td>\n",
       "      <td>8464.250000</td>\n",
       "      <td>6040.250000</td>\n",
       "      <td>22314.500000</td>\n",
       "      <td>6020.250000</td>\n",
       "      <td>16078.000000</td>\n",
       "      <td>21464.750000</td>\n",
       "      <td>8414.500000</td>\n",
       "      <td>73929.500000</td>\n",
       "      <td>68580.000000</td>\n",
       "      <td>6.000000</td>\n",
       "    </tr>\n",
       "    <tr>\n",
       "      <th>max</th>\n",
       "      <td>34.000000</td>\n",
       "      <td>263.000000</td>\n",
       "      <td>107775.000000</td>\n",
       "      <td>85.000000</td>\n",
       "      <td>58.000000</td>\n",
       "      <td>86560.000000</td>\n",
       "      <td>21.000000</td>\n",
       "      <td>377.000000</td>\n",
       "      <td>166.000000</td>\n",
       "      <td>492.000000</td>\n",
       "      <td>...</td>\n",
       "      <td>189297.000000</td>\n",
       "      <td>24914.000000</td>\n",
       "      <td>214551.000000</td>\n",
       "      <td>25502.000000</td>\n",
       "      <td>63895.000000</td>\n",
       "      <td>212548.000000</td>\n",
       "      <td>38582.000000</td>\n",
       "      <td>397109.000000</td>\n",
       "      <td>322765.000000</td>\n",
       "      <td>9.000000</td>\n",
       "    </tr>\n",
       "  </tbody>\n",
       "</table>\n",
       "<p>8 rows × 1805 columns</p>\n",
       "</div>"
      ],
      "text/plain": [
       "            Virtual        Offset            loc        Import       Imports  \\\n",
       "count  10868.000000  10868.000000   10868.000000  10868.000000  10868.000000   \n",
       "mean       3.279076      3.500552    1990.713747     11.586861      4.934671   \n",
       "std        0.936296      3.725526    5827.675688      8.986606      2.637995   \n",
       "min        0.000000      0.000000       0.000000      0.000000      0.000000   \n",
       "25%        3.000000      3.000000      58.000000      3.000000      4.000000   \n",
       "50%        3.000000      3.000000     513.000000     12.000000      4.000000   \n",
       "75%        3.000000      4.000000    1652.500000     18.000000      6.000000   \n",
       "max       34.000000    263.000000  107775.000000     85.000000     58.000000   \n",
       "\n",
       "                var     Forwarder          UINT          LONG          BOOL  \\\n",
       "count  10868.000000  10868.000000  10868.000000  10868.000000  10868.000000   \n",
       "mean    1264.397957      3.845786     16.559717      5.552908     31.011502   \n",
       "std     3902.380905      2.925528     23.203308      7.285566     37.299279   \n",
       "min        0.000000      0.000000      0.000000      0.000000      0.000000   \n",
       "25%       37.000000      1.000000      6.000000      0.000000     13.000000   \n",
       "50%      364.000000      4.000000     11.000000      4.000000     19.000000   \n",
       "75%     1044.000000      5.000000     17.000000      9.000000     33.250000   \n",
       "max    86560.000000     21.000000    377.000000    166.000000    492.000000   \n",
       "\n",
       "           ...               Img99        Img100         Img101        Img102  \\\n",
       "count      ...        10868.000000  10868.000000   10868.000000  10868.000000   \n",
       "mean       ...        10840.809901   5067.437155   19206.655962   4861.557508   \n",
       "std        ...        18299.174269   4215.541706   23749.881264   4084.822497   \n",
       "min        ...            0.000000      0.000000       0.000000      0.000000   \n",
       "25%        ...         1124.000000   1321.000000    3262.000000   1158.750000   \n",
       "50%        ...         5585.500000   5323.500000   14902.000000   5129.500000   \n",
       "75%        ...         8464.250000   6040.250000   22314.500000   6020.250000   \n",
       "max        ...       189297.000000  24914.000000  214551.000000  25502.000000   \n",
       "\n",
       "             Img103         Img104        Img105         Img106  \\\n",
       "count  10868.000000   10868.000000  10868.000000   10868.000000   \n",
       "mean   13055.646853   19358.439179   7070.320482   66860.996319   \n",
       "std    10759.321012   24745.353583   5963.469543   66364.332846   \n",
       "min        0.000000       0.000000      0.000000       0.000000   \n",
       "25%     3108.000000    3130.750000   1964.750000   11990.250000   \n",
       "50%    14752.000000   14921.000000   7437.500000   62384.500000   \n",
       "75%    16078.000000   21464.750000   8414.500000   73929.500000   \n",
       "max    63895.000000  212548.000000  38582.000000  397109.000000   \n",
       "\n",
       "              Img107         Class  \n",
       "count   10868.000000  10868.000000  \n",
       "mean    53866.402926      4.017851  \n",
       "std     53145.701929      2.684621  \n",
       "min         0.000000      1.000000  \n",
       "25%      7706.000000      2.000000  \n",
       "50%     45639.000000      3.000000  \n",
       "75%     68580.000000      6.000000  \n",
       "max    322765.000000      9.000000  \n",
       "\n",
       "[8 rows x 1805 columns]"
      ]
     },
     "execution_count": 24,
     "metadata": {},
     "output_type": "execute_result"
    }
   ],
   "source": [
    "malware_data.describe()"
   ]
  },
  {
   "cell_type": "code",
   "execution_count": 25,
   "metadata": {
    "collapsed": false
   },
   "outputs": [
    {
     "name": "stdout",
     "output_type": "stream",
     "text": [
      "<class 'pandas.core.frame.DataFrame'>\n",
      "RangeIndex: 10868 entries, 0 to 10867\n",
      "Columns: 1805 entries, Virtual to Class\n",
      "dtypes: float64(583), int64(1222)\n",
      "memory usage: 149.7 MB\n"
     ]
    }
   ],
   "source": [
    "malware_data.info()"
   ]
  },
  {
   "cell_type": "code",
   "execution_count": 3,
   "metadata": {
    "collapsed": false
   },
   "outputs": [],
   "source": [
    "train_df = malware_data\n",
    "target = 'Class'\n",
    "IDcol = 'loc'\n",
    "predictors = [x for x in train_df.columns if x not in [target, IDcol]]"
   ]
  },
  {
   "cell_type": "code",
   "execution_count": 4,
   "metadata": {
    "collapsed": false
   },
   "outputs": [
    {
     "data": {
      "text/plain": [
       "GradientBoostingClassifier(criterion='friedman_mse', init=None,\n",
       "              learning_rate=0.1, loss='deviance', max_depth=3,\n",
       "              max_features=None, max_leaf_nodes=None,\n",
       "              min_impurity_split=1e-07, min_samples_leaf=1,\n",
       "              min_samples_split=2, min_weight_fraction_leaf=0.0,\n",
       "              n_estimators=100, presort='auto', random_state=10,\n",
       "              subsample=1.0, verbose=0, warm_start=False)"
      ]
     },
     "execution_count": 4,
     "metadata": {},
     "output_type": "execute_result"
    }
   ],
   "source": [
    "gbm0 = GradientBoostingClassifier(random_state=10)\n",
    "gbm0.fit(train_df[predictors], train_df[target])\n"
   ]
  },
  {
   "cell_type": "code",
   "execution_count": 5,
   "metadata": {
    "collapsed": false
   },
   "outputs": [],
   "source": [
    "my_scorer = metrics.make_scorer(metrics.f1_score, average=\"weighted\")"
   ]
  },
  {
   "cell_type": "code",
   "execution_count": 6,
   "metadata": {
    "collapsed": false
   },
   "outputs": [
    {
     "name": "stderr",
     "output_type": "stream",
     "text": [
      "/Users/stybill/anaconda/lib/python2.7/site-packages/sklearn/model_selection/_search.py:667: DeprecationWarning: The grid_scores_ attribute was deprecated in version 0.18 in favor of the more elaborate cv_results_ attribute. The grid_scores_ attribute will not be available from 0.20\n",
      "  DeprecationWarning)\n"
     ]
    },
    {
     "data": {
      "text/plain": [
       "([mean: 0.98685, std: 0.00213, params: {'n_estimators': 20},\n",
       "  mean: 0.99048, std: 0.00199, params: {'n_estimators': 30},\n",
       "  mean: 0.99318, std: 0.00170, params: {'n_estimators': 40},\n",
       "  mean: 0.99428, std: 0.00104, params: {'n_estimators': 50},\n",
       "  mean: 0.99474, std: 0.00126, params: {'n_estimators': 60},\n",
       "  mean: 0.99456, std: 0.00115, params: {'n_estimators': 70},\n",
       "  mean: 0.99511, std: 0.00113, params: {'n_estimators': 80},\n",
       "  mean: 0.99511, std: 0.00110, params: {'n_estimators': 90},\n",
       "  mean: 0.99521, std: 0.00126, params: {'n_estimators': 100},\n",
       "  mean: 0.99548, std: 0.00115, params: {'n_estimators': 110},\n",
       "  mean: 0.99576, std: 0.00099, params: {'n_estimators': 120},\n",
       "  mean: 0.99576, std: 0.00122, params: {'n_estimators': 130},\n",
       "  mean: 0.99566, std: 0.00104, params: {'n_estimators': 140},\n",
       "  mean: 0.99576, std: 0.00099, params: {'n_estimators': 150},\n",
       "  mean: 0.99586, std: 0.00120, params: {'n_estimators': 160},\n",
       "  mean: 0.99586, std: 0.00120, params: {'n_estimators': 170},\n",
       "  mean: 0.99586, std: 0.00120, params: {'n_estimators': 180},\n",
       "  mean: 0.99586, std: 0.00120, params: {'n_estimators': 190},\n",
       "  mean: 0.99577, std: 0.00122, params: {'n_estimators': 200}],\n",
       " {'n_estimators': 160},\n",
       " 0.99585757945302245)"
      ]
     },
     "execution_count": 6,
     "metadata": {},
     "output_type": "execute_result"
    }
   ],
   "source": [
    "param_test1 = {'n_estimators':range(20,201,10)}\n",
    "gsearch1 = GridSearchCV(estimator = GradientBoostingClassifier(learning_rate=0.1, min_samples_split=500,min_samples_leaf=50,max_depth=8,max_features='sqrt',subsample=0.8,random_state=10), \n",
    "param_grid = param_test1, scoring=my_scorer,n_jobs=4,iid=False, cv=5)\n",
    "gsearch1.fit(train_df[predictors],train_df[target])\n",
    "gsearch1.grid_scores_, gsearch1.best_params_, gsearch1.best_score_"
   ]
  },
  {
   "cell_type": "code",
   "execution_count": 10,
   "metadata": {
    "collapsed": false
   },
   "outputs": [
    {
     "name": "stderr",
     "output_type": "stream",
     "text": [
      "/Users/stybill/anaconda/lib/python2.7/site-packages/sklearn/model_selection/_search.py:667: DeprecationWarning: The grid_scores_ attribute was deprecated in version 0.18 in favor of the more elaborate cv_results_ attribute. The grid_scores_ attribute will not be available from 0.20\n",
      "  DeprecationWarning)\n"
     ]
    },
    {
     "data": {
      "text/plain": [
       "<matplotlib.text.Text at 0x110efd5d0>"
      ]
     },
     "execution_count": 10,
     "metadata": {},
     "output_type": "execute_result"
    },
    {
     "data": {
      "image/png": "[encoded data removed]",
      "text/plain": [
       "<matplotlib.figure.Figure at 0x110e1fe50>"
      ]
     },
     "metadata": {},
     "output_type": "display_data"
    }
   ],
   "source": [
    "grid_visualization = []\n",
    "\n",
    "for grid_pair in gsearch1.grid_scores_:\n",
    "    grid_visualization.append(grid_pair.mean_validation_score)\n",
    "    \n",
    "grid_visualization = np.array(grid_visualization)\n",
    "grid_visualization.shape = (1, 19)\n",
    "sb.heatmap(grid_visualization, cmap='Reds')\n",
    "plt.xticks(np.arange(19) + 0.5, gsearch1.param_grid['n_estimators'])\n",
    "plt.xlabel('n_estimators')"
   ]
  },
  {
   "cell_type": "code",
   "execution_count": null,
   "metadata": {
    "collapsed": false,
    "scrolled": true
   },
   "outputs": [
    {
     "name": "stderr",
     "output_type": "stream",
     "text": [
      "/Users/stybill/anaconda/lib/python2.7/site-packages/sklearn/model_selection/_search.py:667: DeprecationWarning: The grid_scores_ attribute was deprecated in version 0.18 in favor of the more elaborate cv_results_ attribute. The grid_scores_ attribute will not be available from 0.20\n",
      "  DeprecationWarning)\n"
     ]
    },
    {
     "data": {
      "text/plain": [
       "([mean: 0.99232, std: 0.00181, params: {'min_samples_split': 200, 'max_depth': 1},\n",
       "  mean: 0.99232, std: 0.00181, params: {'min_samples_split': 400, 'max_depth': 1},\n",
       "  mean: 0.99232, std: 0.00181, params: {'min_samples_split': 600, 'max_depth': 1},\n",
       "  mean: 0.99232, std: 0.00181, params: {'min_samples_split': 800, 'max_depth': 1},\n",
       "  mean: 0.99232, std: 0.00181, params: {'min_samples_split': 1000, 'max_depth': 1},\n",
       "  mean: 0.99530, std: 0.00107, params: {'min_samples_split': 200, 'max_depth': 3},\n",
       "  mean: 0.99528, std: 0.00108, params: {'min_samples_split': 400, 'max_depth': 3},\n",
       "  mean: 0.99511, std: 0.00119, params: {'min_samples_split': 600, 'max_depth': 3},\n",
       "  mean: 0.99472, std: 0.00120, params: {'min_samples_split': 800, 'max_depth': 3},\n",
       "  mean: 0.99509, std: 0.00129, params: {'min_samples_split': 1000, 'max_depth': 3},\n",
       "  mean: 0.99567, std: 0.00149, params: {'min_samples_split': 200, 'max_depth': 5},\n",
       "  mean: 0.99603, std: 0.00116, params: {'min_samples_split': 400, 'max_depth': 5},\n",
       "  mean: 0.99574, std: 0.00090, params: {'min_samples_split': 600, 'max_depth': 5},\n",
       "  mean: 0.99537, std: 0.00147, params: {'min_samples_split': 800, 'max_depth': 5},\n",
       "  mean: 0.99555, std: 0.00123, params: {'min_samples_split': 1000, 'max_depth': 5},\n",
       "  mean: 0.99602, std: 0.00129, params: {'min_samples_split': 200, 'max_depth': 7},\n",
       "  mean: 0.99556, std: 0.00112, params: {'min_samples_split': 400, 'max_depth': 7},\n",
       "  mean: 0.99547, std: 0.00132, params: {'min_samples_split': 600, 'max_depth': 7},\n",
       "  mean: 0.99575, std: 0.00094, params: {'min_samples_split': 800, 'max_depth': 7},\n",
       "  mean: 0.99556, std: 0.00150, params: {'min_samples_split': 1000, 'max_depth': 7},\n",
       "  mean: 0.99565, std: 0.00064, params: {'min_samples_split': 200, 'max_depth': 9},\n",
       "  mean: 0.99556, std: 0.00109, params: {'min_samples_split': 400, 'max_depth': 9},\n",
       "  mean: 0.99557, std: 0.00120, params: {'min_samples_split': 600, 'max_depth': 9},\n",
       "  mean: 0.99547, std: 0.00115, params: {'min_samples_split': 800, 'max_depth': 9},\n",
       "  mean: 0.99538, std: 0.00102, params: {'min_samples_split': 1000, 'max_depth': 9},\n",
       "  mean: 0.99594, std: 0.00099, params: {'min_samples_split': 200, 'max_depth': 11},\n",
       "  mean: 0.99574, std: 0.00115, params: {'min_samples_split': 400, 'max_depth': 11},\n",
       "  mean: 0.99548, std: 0.00115, params: {'min_samples_split': 600, 'max_depth': 11},\n",
       "  mean: 0.99519, std: 0.00120, params: {'min_samples_split': 800, 'max_depth': 11},\n",
       "  mean: 0.99538, std: 0.00106, params: {'min_samples_split': 1000, 'max_depth': 11},\n",
       "  mean: 0.99574, std: 0.00108, params: {'min_samples_split': 200, 'max_depth': 13},\n",
       "  mean: 0.99547, std: 0.00138, params: {'min_samples_split': 400, 'max_depth': 13},\n",
       "  mean: 0.99519, std: 0.00123, params: {'min_samples_split': 600, 'max_depth': 13},\n",
       "  mean: 0.99566, std: 0.00103, params: {'min_samples_split': 800, 'max_depth': 13},\n",
       "  mean: 0.99520, std: 0.00159, params: {'min_samples_split': 1000, 'max_depth': 13},\n",
       "  mean: 0.99565, std: 0.00131, params: {'min_samples_split': 200, 'max_depth': 15},\n",
       "  mean: 0.99548, std: 0.00146, params: {'min_samples_split': 400, 'max_depth': 15},\n",
       "  mean: 0.99538, std: 0.00125, params: {'min_samples_split': 600, 'max_depth': 15},\n",
       "  mean: 0.99593, std: 0.00090, params: {'min_samples_split': 800, 'max_depth': 15},\n",
       "  mean: 0.99500, std: 0.00136, params: {'min_samples_split': 1000, 'max_depth': 15}],\n",
       " {'max_depth': 5, 'min_samples_split': 400},\n",
       " 0.99603167311088736)"
      ]
     },
     "execution_count": 92,
     "metadata": {},
     "output_type": "execute_result"
    }
   ],
   "source": [
    "param_test2 = {'max_depth':range(1,16,2), 'min_samples_split':range(200,1001,200)}\n",
    "gsearch2 = GridSearchCV(estimator = GradientBoostingClassifier(learning_rate=0.1, n_estimators=160, max_features='sqrt', subsample=0.8, random_state=10), \n",
    "param_grid = param_test2, scoring=my_scorer,n_jobs=4,iid=False, cv=5)\n",
    "gsearch2.fit(train_df[predictors],train_df[target])\n",
    "gsearch2.grid_scores_, gsearch2.best_params_, gsearch2.best_score_"
   ]
  },
  {
   "cell_type": "code",
   "execution_count": 4,
   "metadata": {
    "collapsed": false
   },
   "outputs": [
    {
     "ename": "NameError",
     "evalue": "name 'gsearch2' is not defined",
     "output_type": "error",
     "traceback": [
      "\u001b[0;31m---------------------------------------------------------------------------\u001b[0m",
      "\u001b[0;31mNameError\u001b[0m                                 Traceback (most recent call last)",
      "\u001b[0;32m<ipython-input-4-abdeb5874b47>\u001b[0m in \u001b[0;36m<module>\u001b[0;34m()\u001b[0m\n\u001b[1;32m      1\u001b[0m \u001b[0mgrid_visualization\u001b[0m \u001b[0;34m=\u001b[0m \u001b[0;34m[\u001b[0m\u001b[0;34m]\u001b[0m\u001b[0;34m\u001b[0m\u001b[0m\n\u001b[1;32m      2\u001b[0m \u001b[0;34m\u001b[0m\u001b[0m\n\u001b[0;32m----> 3\u001b[0;31m \u001b[0;32mfor\u001b[0m \u001b[0mgrid_pair\u001b[0m \u001b[0;32min\u001b[0m \u001b[0mgsearch2\u001b[0m\u001b[0;34m.\u001b[0m\u001b[0mgrid_scores_\u001b[0m\u001b[0;34m:\u001b[0m\u001b[0;34m\u001b[0m\u001b[0m\n\u001b[0m\u001b[1;32m      4\u001b[0m     \u001b[0mgrid_visualization\u001b[0m\u001b[0;34m.\u001b[0m\u001b[0mappend\u001b[0m\u001b[0;34m(\u001b[0m\u001b[0mgrid_pair\u001b[0m\u001b[0;34m.\u001b[0m\u001b[0mmean_validation_score\u001b[0m\u001b[0;34m)\u001b[0m\u001b[0;34m\u001b[0m\u001b[0m\n\u001b[1;32m      5\u001b[0m \u001b[0;34m\u001b[0m\u001b[0m\n",
      "\u001b[0;31mNameError\u001b[0m: name 'gsearch2' is not defined"
     ]
    }
   ],
   "source": [
    "grid_visualization = []\n",
    "\n",
    "for grid_pair in gsearch2.grid_scores_:\n",
    "    grid_visualization.append(grid_pair.mean_validation_score)\n",
    "    \n",
    "grid_visualization = np.array(grid_visualization)\n",
    "grid_visualization.shape = (8, 5)\n",
    "sb.heatmap(grid_visualization, cmap='Greens')\n",
    "plt.xticks(np.arange(5) + 0.5, gsearch2.param_grid['min_samples_split'])\n",
    "plt.yticks(np.arange(8) + 0.5, gsearch2.param_grid['max_depth'][::])\n",
    "plt.xlabel('min_samples_split')\n",
    "plt.ylabel('max_depth')"
   ]
  },
  {
   "cell_type": "code",
   "execution_count": 7,
   "metadata": {
    "collapsed": false,
    "scrolled": true
   },
   "outputs": [
    {
     "name": "stderr",
     "output_type": "stream",
     "text": [
      "/Users/stybill/anaconda/lib/python2.7/site-packages/sklearn/model_selection/_search.py:667: DeprecationWarning: The grid_scores_ attribute was deprecated in version 0.18 in favor of the more elaborate cv_results_ attribute. The grid_scores_ attribute will not be available from 0.20\n",
      "  DeprecationWarning)\n"
     ]
    },
    {
     "data": {
      "text/plain": [
       "([mean: 0.99604, std: 0.00129, params: {'min_samples_split': 400, 'min_samples_leaf': 30},\n",
       "  mean: 0.99594, std: 0.00130, params: {'min_samples_split': 600, 'min_samples_leaf': 30},\n",
       "  mean: 0.99566, std: 0.00084, params: {'min_samples_split': 800, 'min_samples_leaf': 30},\n",
       "  mean: 0.99595, std: 0.00114, params: {'min_samples_split': 1000, 'min_samples_leaf': 30},\n",
       "  mean: 0.99595, std: 0.00099, params: {'min_samples_split': 1200, 'min_samples_leaf': 30},\n",
       "  mean: 0.99612, std: 0.00090, params: {'min_samples_split': 1400, 'min_samples_leaf': 30},\n",
       "  mean: 0.99557, std: 0.00136, params: {'min_samples_split': 1600, 'min_samples_leaf': 30},\n",
       "  mean: 0.99538, std: 0.00078, params: {'min_samples_split': 1800, 'min_samples_leaf': 30},\n",
       "  mean: 0.99538, std: 0.00124, params: {'min_samples_split': 2000, 'min_samples_leaf': 30},\n",
       "  mean: 0.99586, std: 0.00125, params: {'min_samples_split': 400, 'min_samples_leaf': 40},\n",
       "  mean: 0.99602, std: 0.00103, params: {'min_samples_split': 600, 'min_samples_leaf': 40},\n",
       "  mean: 0.99557, std: 0.00111, params: {'min_samples_split': 800, 'min_samples_leaf': 40},\n",
       "  mean: 0.99585, std: 0.00120, params: {'min_samples_split': 1000, 'min_samples_leaf': 40},\n",
       "  mean: 0.99621, std: 0.00110, params: {'min_samples_split': 1200, 'min_samples_leaf': 40},\n",
       "  mean: 0.99603, std: 0.00118, params: {'min_samples_split': 1400, 'min_samples_leaf': 40},\n",
       "  mean: 0.99612, std: 0.00112, params: {'min_samples_split': 1600, 'min_samples_leaf': 40},\n",
       "  mean: 0.99548, std: 0.00136, params: {'min_samples_split': 1800, 'min_samples_leaf': 40},\n",
       "  mean: 0.99556, std: 0.00145, params: {'min_samples_split': 2000, 'min_samples_leaf': 40},\n",
       "  mean: 0.99604, std: 0.00074, params: {'min_samples_split': 400, 'min_samples_leaf': 50},\n",
       "  mean: 0.99593, std: 0.00068, params: {'min_samples_split': 600, 'min_samples_leaf': 50},\n",
       "  mean: 0.99576, std: 0.00128, params: {'min_samples_split': 800, 'min_samples_leaf': 50},\n",
       "  mean: 0.99631, std: 0.00072, params: {'min_samples_split': 1000, 'min_samples_leaf': 50},\n",
       "  mean: 0.99630, std: 0.00077, params: {'min_samples_split': 1200, 'min_samples_leaf': 50},\n",
       "  mean: 0.99576, std: 0.00105, params: {'min_samples_split': 1400, 'min_samples_leaf': 50},\n",
       "  mean: 0.99585, std: 0.00132, params: {'min_samples_split': 1600, 'min_samples_leaf': 50},\n",
       "  mean: 0.99622, std: 0.00114, params: {'min_samples_split': 1800, 'min_samples_leaf': 50},\n",
       "  mean: 0.99576, std: 0.00145, params: {'min_samples_split': 2000, 'min_samples_leaf': 50},\n",
       "  mean: 0.99576, std: 0.00078, params: {'min_samples_split': 400, 'min_samples_leaf': 60},\n",
       "  mean: 0.99612, std: 0.00129, params: {'min_samples_split': 600, 'min_samples_leaf': 60},\n",
       "  mean: 0.99585, std: 0.00120, params: {'min_samples_split': 800, 'min_samples_leaf': 60},\n",
       "  mean: 0.99594, std: 0.00114, params: {'min_samples_split': 1000, 'min_samples_leaf': 60},\n",
       "  mean: 0.99613, std: 0.00086, params: {'min_samples_split': 1200, 'min_samples_leaf': 60},\n",
       "  mean: 0.99575, std: 0.00114, params: {'min_samples_split': 1400, 'min_samples_leaf': 60},\n",
       "  mean: 0.99593, std: 0.00090, params: {'min_samples_split': 1600, 'min_samples_leaf': 60},\n",
       "  mean: 0.99602, std: 0.00086, params: {'min_samples_split': 1800, 'min_samples_leaf': 60},\n",
       "  mean: 0.99557, std: 0.00138, params: {'min_samples_split': 2000, 'min_samples_leaf': 60},\n",
       "  mean: 0.99595, std: 0.00114, params: {'min_samples_split': 400, 'min_samples_leaf': 70},\n",
       "  mean: 0.99595, std: 0.00098, params: {'min_samples_split': 600, 'min_samples_leaf': 70},\n",
       "  mean: 0.99575, std: 0.00074, params: {'min_samples_split': 800, 'min_samples_leaf': 70},\n",
       "  mean: 0.99584, std: 0.00077, params: {'min_samples_split': 1000, 'min_samples_leaf': 70},\n",
       "  mean: 0.99603, std: 0.00095, params: {'min_samples_split': 1200, 'min_samples_leaf': 70},\n",
       "  mean: 0.99622, std: 0.00084, params: {'min_samples_split': 1400, 'min_samples_leaf': 70},\n",
       "  mean: 0.99593, std: 0.00094, params: {'min_samples_split': 1600, 'min_samples_leaf': 70},\n",
       "  mean: 0.99585, std: 0.00051, params: {'min_samples_split': 1800, 'min_samples_leaf': 70},\n",
       "  mean: 0.99602, std: 0.00113, params: {'min_samples_split': 2000, 'min_samples_leaf': 70}],\n",
       " {'min_samples_leaf': 50, 'min_samples_split': 1000},\n",
       " 0.99630665511857563)"
      ]
     },
     "execution_count": 7,
     "metadata": {},
     "output_type": "execute_result"
    }
   ],
   "source": [
    "param_test3 = {'min_samples_split':range(400,2100,200), 'min_samples_leaf':range(30,71,10)}\n",
    "gsearch3 = GridSearchCV(estimator = GradientBoostingClassifier(learning_rate=0.1, n_estimators=160, min_samples_split=400, max_depth=5,max_features='sqrt', subsample=0.8, random_state=10), \n",
    "param_grid = param_test3, scoring=my_scorer,n_jobs=4,iid=False, cv=5)\n",
    "gsearch3.fit(train_df[predictors],train_df[target])\n",
    "gsearch3.grid_scores_, gsearch3.best_params_, gsearch3.best_score_"
   ]
  },
  {
   "cell_type": "code",
   "execution_count": null,
   "metadata": {
    "collapsed": true
   },
   "outputs": [],
   "source": [
    "grid_visualization = []\n",
    "\n",
    "for grid_pair in grid_search.grid_scores_:\n",
    "    grid_visualization.append(grid_pair.mean_validation_score)\n",
    "    \n",
    "grid_visualization = np.array(grid_visualization)\n",
    "grid_visualization.shape = (5, 9)\n",
    "sb.heatmap(grid_visualization, cmap='Blues')\n",
    "plt.xticks(np.arange(9) + 0.5, grid_search.param_grid['min_samples_leaf'])\n",
    "plt.yticks(np.arange(5) + 0.5, grid_search.param_grid['min_samples_split'][::])\n",
    "plt.xlabel('min_samples_leaf')\n",
    "plt.ylabel('min_samples_split')"
   ]
  }
 ],
 "metadata": {
  "anaconda-cloud": {},
  "kernelspec": {
   "display_name": "Python [conda root]",
   "language": "python",
   "name": "conda-root-py"
  },
  "language_info": {
   "codemirror_mode": {
    "name": "ipython",
    "version": 2
   },
   "file_extension": ".py",
   "mimetype": "text/x-python",
   "name": "python",
   "nbconvert_exporter": "python",
   "pygments_lexer": "ipython2",
   "version": "2.7.12"
  }
 },
 "nbformat": 4,
 "nbformat_minor": 1
}
